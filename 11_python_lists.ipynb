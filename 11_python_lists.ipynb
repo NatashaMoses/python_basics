{
 "cells": [
  {
   "cell_type": "markdown",
   "metadata": {},
   "source": [
    "### **Python Lists**\n",
    "\n",
    "List`[]` - Ordered, Mutable/Changeable, Allow Duplicates.  \n",
    "Tuple`()` - Ordered, Immutable/Unchangeable, Allow Duplicates.  \n",
    "Set`{}` - Unordered, Immutable/Unchangeable, Don't Allow Duplicates.  \n",
    "Dictionary`{}` - Ordered, Mutable/Changeable, Don't Allow Duplicates.  \n",
    "\n",
    "List Items are:\n",
    "+ **Ordered**   \n",
    "Items in a list have a specific order that cannnot change.  \n",
    "- **Mutable/Changeable**  \n",
    "After a list is created, you can add/remove/change items.  \n",
    "+ **Allow Duplicates**  \n",
    "Items in a list can have the same value.  \n",
    "\n",
    "#### Create List\n",
    "Lists are created using `[]`  \n",
    "You can also use the `list()` function to create a list.  \n",
    "Items in a list can be of any data type.  \n",
    "\n",
    "#### List Length/Data Type\n",
    "The `len()` function is used to get the length of a list.  \n",
    "The `type()` function returns the data type of the list.  "
   ]
  },
  {
   "cell_type": "code",
   "execution_count": 38,
   "metadata": {},
   "outputs": [
    {
     "name": "stdout",
     "output_type": "stream",
     "text": [
      "using list() function\n",
      "['John', -29.0, 'Jane', (75+9j), True]\n",
      "using []\n",
      "['cat', 28.5, 'hen', False, 28.5]\n",
      "5\n",
      "list1 has length of 5\n",
      "<class 'list'>\n"
     ]
    }
   ],
   "source": [
    "# Create List\n",
    "print(\"using list() function\")\n",
    "mylist = list((\"John\", -29.0, \"Jane\", 75+9j, True))\n",
    "print(mylist)\n",
    "\n",
    "print(\"using []\")\n",
    "list1 = [\"cat\", 28.5, \"hen\", False, 28.5] #has different datatypes and duplicates\n",
    "print(list1)\n",
    "\n",
    "# List Length\n",
    "length = len(list1)\n",
    "print(length)\n",
    "print(\"list1 has length of {}\".format(length))\n",
    "\n",
    "# Get Data Type\n",
    "datatype = type(list1)\n",
    "print(datatype)"
   ]
  },
  {
   "cell_type": "markdown",
   "metadata": {},
   "source": [
    "#### Access List Items \n",
    "Items in a list are ordered starting from 0.  \n",
    "I.e the **first** item in the list is index `0`.  \n",
    "The **second** item in the list is index `1`.  \n",
    "\n",
    "You can also acccess list items from the last item.  \n",
    "This is known as **negative indexing**.  \n",
    "The **last** item in the list is index `-1`.  \n",
    "The **second last** item is index `-2` etc. \n",
    "  \n",
    "To access more than one item, you separate the indexes by a colon.  \n",
    "E.g `list1[1:3]`  \n",
    "Note that the item in the last index is excluded.  \n",
    "I.e `list1[1:3]` will access item in index 1 and 2 only, 3 is excluded.   \n",
    "The same happens in the case of `list1[-4:-2]`  \n",
    "This will access item in index -4 and -3 only, -2 is excluded.  \n",
    "  \n",
    "If the starting index is not specified, it will access from index 0.  \n",
    "E.g `list1[:3]` will access item in index 0, 1 and 2.  \n",
    "If the ending index is not specified, it will access up to the last item.  \n",
    "E.g `list1[3:]` will access item in index 3 to the last index.  \n",
    "\n",
    "You can also check if an item exists by using `if statement` as shown below.  "
   ]
  },
  {
   "cell_type": "code",
   "execution_count": 39,
   "metadata": {},
   "outputs": [
    {
     "name": "stdout",
     "output_type": "stream",
     "text": [
      "ACCESS LIST ITEMS\n",
      "sheep\n",
      "Item in index 0 is sheep\n",
      "dog\n",
      "Item in index 1 is dog\n",
      "rabbit\n",
      "Item in index -1 is rabbit\n",
      "['dog', 'hen']\n",
      "Items in index 1 and 2 are ['dog', 'hen']\n",
      "['hen', 'cow']\n",
      "Items in index -3 and -2 are ['hen', 'cow']\n",
      "['sheep', 'dog', 'hen', 'cow']\n",
      "Items from index 0 to index 3 are ['sheep', 'dog', 'hen', 'cow']\n",
      "['dog', 'hen', 'cow', 'rabbit']\n",
      "Items from index 1 to last index are ['dog', 'hen', 'cow', 'rabbit']\n",
      "'cat' is not in list1\n"
     ]
    }
   ],
   "source": [
    "list1 = [\"sheep\", \"dog\", \"hen\", \"cow\", \"rabbit\"]\n",
    "\n",
    "print(\"ACCESS LIST ITEMS\")\n",
    "print(list1[0])\n",
    "print(\"Item in index 0 is {}\".format(list1[0]))\n",
    "print(list1[1])\n",
    "print(\"Item in index 1 is {}\".format(list1[1]))\n",
    "\n",
    "print(list1[-1])\n",
    "print(\"Item in index -1 is {}\".format(list1[-1]))\n",
    "\n",
    "print(list1[1:3])\n",
    "print(\"Items in index 1 and 2 are {}\".format(list1[1:3]))\n",
    "print(list1[-3:-1])\n",
    "print(\"Items in index -3 and -2 are {}\".format(list1[-3:-1]))\n",
    "\n",
    "print(list1[:4])\n",
    "print(\"Items from index 0 to index 3 are {}\".format(list1[:4]))\n",
    "print(list1[1:])\n",
    "print(\"Items from index 1 to last index are {}\".format(list1[1:]))\n",
    "\n",
    "if \"cat\" in list1:\n",
    "  print(\"'cat' is in list1\")\n",
    "else:\n",
    "  print(\"'cat' is not in list1\")  \n"
   ]
  },
  {
   "cell_type": "markdown",
   "metadata": {},
   "source": [
    "#### Change List Items  \n",
    "We use indexing to change items in a list.  \n",
    "E.g `list1[1:3] = [\"blue\", \"red\"]`   \n",
    "Notice the items in the 1st and 2nd index will be replaced with \"blue\" and \"red\".  \n",
    "Here two items inserted and two items replaced   \n",
    "\n",
    "However if you insert **more** items than replaced eg `list1[1:2] = [\"blue\", \"red\"]` \n",
    "The new items are inserted where specified and the rest move accordingly.   \n",
    "This will replace item in index 1 with both \"blue\" and \"red\".  \n",
    "The resulting list will therefore have a longer length than original list.  \n",
    "\n",
    "If you insert **less** items than replaced eg `list1[1:3] = [\"blue\"]`  \n",
    "The new items are inserted where specified and the rest move accordingly.   \n",
    "This will replace items in both index 1 and 2 with \"blue\".    \n",
    "The resulting list will therefore have a smaller length than original list.  "
   ]
  },
  {
   "cell_type": "code",
   "execution_count": 40,
   "metadata": {},
   "outputs": [
    {
     "name": "stdout",
     "output_type": "stream",
     "text": [
      "CHANGE LIST ITEMS\n",
      "Original List: ['red', 'blue', 'black', 'pink', 'white']\n",
      "Change item in index 1: ['red', 'purple', 'black', 'pink', 'white']\n",
      "Change item in index -2: ['red', 'purple', 'black', 'green', 'white']\n",
      "Change item in index 1 and 2: ['red', 'yellow', 'brown', 'green', 'white']\n",
      "Insert more items: ['red', 'orange', 'indigo', 'gray', 'green', 'white']\n",
      "Insert less items: ['red', 'violet', 'gray', 'green', 'white']\n"
     ]
    }
   ],
   "source": [
    "print(\"CHANGE LIST ITEMS\")\n",
    "colors = [\"red\", \"blue\", \"black\", \"pink\", \"white\"]\n",
    "print(\"Original List: {}\".format(colors))\n",
    "\n",
    "colors[1] = \"purple\"  #change item in index 1 to purple\n",
    "print(\"Change item in index 1: {}\".format(colors))\n",
    "\n",
    "colors[-2] = \"green\"  #change item in index -2 to green\n",
    "print(\"Change item in index -2: {}\".format(colors))\n",
    "\n",
    "colors[1:3] = [\"yellow\", \"brown\"]\n",
    "print(\"Change item in index 1 and 2: {}\".format(colors))\n",
    "\n",
    "#Insert more items than replaced\n",
    "colors[1:3] = [\"orange\", \"indigo\", \"gray\"]\n",
    "print(\"Insert more items: {}\".format(colors))\n",
    "\n",
    "#Insert less items than replaced\n",
    "colors[1:3] = [\"violet\"]\n",
    "print(\"Insert less items: {}\".format(colors))"
   ]
  },
  {
   "cell_type": "markdown",
   "metadata": {},
   "source": [
    "#### Add List Items\n",
    "+ The `append()` method.   \n",
    "This adds an item at the end of a list e.g `list1.append(\"white\")`  \n",
    "\n",
    "- The `insert()` method.  \n",
    "This uses index to add an item to a list e.g `list1.insert(2, \"green\")`  \n",
    "\n",
    "+ The `extend()` method.  \n",
    "This adds a list to another list e.g `list1.extend(list2)`  \n",
    "It can also add a tuple/set/dictionary etc.    \n",
    "\n",
    "#### Remove List Items\n",
    "+ The `remove()` method.  \n",
    "This removes a specific item e.g `list1.remove(\"black\")`  \n",
    "Remember lists allow duplicates.  \n",
    "If there is more than one \"black\" in the list, it removes the first one.  \n",
    "\n",
    "- The `pop()` method.  \n",
    "This removes an item using index e.g `list.pop(2)` removes item at index 2.  \n",
    "If index is not specified e.g `list.pop()` it removes the last item.  \n",
    "\n",
    "+ The `clear()` method.  \n",
    "This deletes all items in the list.  \n",
    "The list will still be present but empty.  \n",
    "\n",
    "- The `del` keyword. \n",
    "This removes item at specific index e.g `del list[3]` deletes item at index 3 \n",
    "This deletes the whole list.          "
   ]
  },
  {
   "cell_type": "code",
   "execution_count": 41,
   "metadata": {},
   "outputs": [
    {
     "name": "stdout",
     "output_type": "stream",
     "text": [
      "ADD LIST ITEMS\n",
      "Using append()\n",
      "['cat', 'dog', 'hen', 'cow', 'rabbit', 'dog', 'sheep']\n",
      "Using insert()\n",
      "['cat', 'dog', 'hen', 'goose', 'cow', 'rabbit', 'dog', 'sheep']\n",
      "Using extend()\n",
      "['cat', 'dog', 'hen', 'goose', 'cow', 'rabbit', 'dog', 'sheep', 'ant', 'bee']\n",
      "REMOVE LIST ITEMS\n",
      "Using remove()\n",
      "['cat', 'hen', 'goose', 'cow', 'rabbit', 'dog', 'sheep', 'ant', 'bee']\n",
      "Using pop()\n",
      "['cat', 'hen', 'goose', 'rabbit', 'dog', 'sheep', 'ant', 'bee']\n",
      "['cat', 'hen', 'goose', 'rabbit', 'dog', 'sheep', 'ant']\n",
      "Using clear()\n",
      "[]\n",
      "Using del\n",
      "Animals after deleting item at index 0: ['hen', 'goose', 'rabbit', 'dog', 'sheep', 'ant']\n"
     ]
    }
   ],
   "source": [
    "animals = [\"cat\", \"dog\", \"hen\", \"cow\", \"rabbit\", \"dog\"]\n",
    "insects = [\"ant\", \"bee\"]\n",
    "\n",
    "print(\"ADD LIST ITEMS\")\n",
    "print(\"Using append()\")\n",
    "animals.append(\"sheep\")\n",
    "print(animals)\n",
    "\n",
    "print(\"Using insert()\")\n",
    "animals.insert(3, \"goose\") #insert at index 3\n",
    "print(animals)\n",
    "\n",
    "print(\"Using extend()\")\n",
    "animals.extend(insects)\n",
    "print(animals)\n",
    "\n",
    "print(\"REMOVE LIST ITEMS\")\n",
    "print(\"Using remove()\")\n",
    "animals.remove(\"dog\")    #remove only the first \"dog\"\n",
    "print(animals)\n",
    "\n",
    "print(\"Using pop()\")\n",
    "animals.pop(3)           #remove item at index 3 \n",
    "print(animals)\n",
    "animals.pop()            #remove last item\n",
    "print(animals)\n",
    "\n",
    "print(\"Using clear()\")\n",
    "insects.clear()          #return empty list []\n",
    "print(insects)\n",
    "\n",
    "print(\"Using del\")\n",
    "del animals[0]\n",
    "print(\"Animals after deleting item at index 0: {}\".format(animals))\n",
    "\n",
    "del insects\n",
    "#print(insects) will raise an error as del deletes the whole list\n"
   ]
  },
  {
   "cell_type": "markdown",
   "metadata": {},
   "source": [
    "#### Loop Lists  \n",
    "\n",
    "+ For Loop  \n",
    "- While Loop  \n",
    "+ List Comprehension   "
   ]
  },
  {
   "cell_type": "code",
   "execution_count": 42,
   "metadata": {},
   "outputs": [
    {
     "name": "stdout",
     "output_type": "stream",
     "text": [
      "FOR LOOP\n",
      "A\n",
      "B\n",
      "C\n",
      "D\n",
      "WHILE LOOP\n",
      "A\n",
      "B\n",
      "C\n",
      "D\n",
      "LIST COMPREHENSION\n",
      "A\n",
      "B\n",
      "C\n",
      "D\n"
     ]
    },
    {
     "data": {
      "text/plain": [
       "[None, None, None, None]"
      ]
     },
     "execution_count": 42,
     "metadata": {},
     "output_type": "execute_result"
    }
   ],
   "source": [
    "grades = [\"A\", \"B\", \"C\", \"D\"]\n",
    "\n",
    "print(\"FOR LOOP\")\n",
    "for i in range(len(grades)):\n",
    "    print(grades[i])\n",
    "\n",
    "print(\"WHILE LOOP\")\n",
    "i = 0\n",
    "while i < len(grades):\n",
    "    print(grades[i])\n",
    "    i = i + 1\n",
    "\n",
    "print(\"LIST COMPREHENSION\")\n",
    "[print (x) for x in grades]\n",
    "\n"
   ]
  },
  {
   "cell_type": "markdown",
   "metadata": {},
   "source": [
    "#### List Comprehension\n",
    "\n",
    "This is a short syntax of creating a new list.  \n",
    "```python\n",
    "animals = [\"cat\", \"dog\", \"hen\", \"cow\", \"rabbit\", \"camel\"]\n",
    "newlist = []\n",
    "for x in animals:\n",
    "    if \"c\" in x:\n",
    "        newlist.append(x)\n",
    "print(newlist)        \n",
    "```  \n",
    "This can also be written as:  \n",
    "```python\n",
    "animals = [\"cat\", \"dog\", \"hen\", \"cow\", \"rabbit\", \"dog\", \"camel\"]\n",
    "newlist = [x for x in animals if \"c\" in x]\n",
    "print(newlist)\n",
    "```  \n",
    "The synatx for list comprehension is:  \n",
    "```python\n",
    "newlist = [expression for item in iterable if condition == True]\n",
    "``` \n",
    "\n",
    "Let's use this example `newlist = [x for x in animals if \"c\" in x]` to explain the following:  \n",
    "+ Expression  \n",
    "This is the current item in the iteration i.e `x` is the expression.  \n",
    "It can be manipulated to your liking e.g `newlist = [x.title() for x in animals if \"c\" in x]`  \n",
    "This converts every first letter to upper case.  \n",
    "- Iterable  \n",
    "This is any itereable object eg list/set/tuple etc. i.e `animals` is the iterable.  \n",
    "`x for x in range(15)` here range(15) is the iterable.  \n",
    "+ Condition  \n",
    "This is like a filter that only accepts the items that valuate to True.  \n",
    "I.e `\"c\" in x` is the condition.  \n",
    "This means it will only return for items where \"c\" is in x.  \n",
    "`x for x in range(15) if x!=5` here `x != 5` is the condition.  \n",
    "The condition is not compulsory. Here is an example without condition.  \n",
    "`x for x in range(15)` or `x.title() for x in animals`.  "
   ]
  },
  {
   "cell_type": "code",
   "execution_count": 43,
   "metadata": {},
   "outputs": [
    {
     "name": "stdout",
     "output_type": "stream",
     "text": [
      "Original Animal List: ['cat', 'dog', 'hen', 'cow', 'rabbit', 'dog', 'camel']\n",
      "Original New list: ['cat', 'cow', 'camel']\n",
      "Original New list using list comprehension: ['cat', 'cow', 'camel']\n",
      "List with cow only: ['cow']\n",
      "List without dog: ['cat', 'hen', 'cow', 'rabbit', 'camel']\n",
      "Animal list: ['cat', 'dog', 'hen', 'cow', 'rabbit', 'dog', 'camel']\n",
      "Convert animal list to upper case: ['CAT', 'DOG', 'HEN', 'COW', 'RABBIT', 'DOG', 'CAMEL']\n",
      "Convert everything to farm: ['farm', 'farm', 'farm', 'farm', 'farm', 'farm', 'farm']\n",
      "All numbers in range of 0-10: [0, 1, 2, 3, 4, 5, 6, 7, 8, 9]\n",
      "Numbers in range 0-15 that are less or equal to 6: [0, 1, 2, 3, 4, 5, 6]\n",
      "List with cow only: ['goose', 'dog', 'hen', 'cow', 'rabbit', 'dog', 'camel']\n"
     ]
    }
   ],
   "source": [
    "animals = [\"cat\", \"dog\", \"hen\", \"cow\", \"rabbit\", \"dog\", \"camel\"]\n",
    "print(\"Original Animal List: {}\".format(animals))\n",
    "newlist = []\n",
    "for x in animals:\n",
    "    if \"c\" in x:\n",
    "        newlist.append(x)\n",
    "print(\"Original New list: {}\".format(newlist))    \n",
    "\n",
    "#expression x, iterable animals, condition \"c\" in x\n",
    "newlist = [x for x in animals if \"c\" in x]\n",
    "print(\"Original New list using list comprehension: {}\".format(newlist))   \n",
    "\n",
    "#expression x, iterable animals, condition \"x\" == \"cow\"\n",
    "newlist1 = [x for x in animals if x == \"cow\"]\n",
    "print(\"List with cow only: {}\".format(newlist1)) \n",
    "\n",
    "#expression x, iterable animals, condition x != \"dog\"\n",
    "newlist2 = [x for x in animals if x != \"dog\"]\n",
    "print(\"List without dog: {}\".format(newlist2)) \n",
    "\n",
    "#expression x, iterable animals, condition none\n",
    "newlist3 = [x for x in animals]\n",
    "print(\"Animal list: {}\".format(newlist3))  \n",
    "\n",
    "#expression x.upper(), iterable animals, condition none\n",
    "newlist4 = [x.upper() for x in animals]\n",
    "print(\"Convert animal list to upper case: {}\".format(newlist4))  \n",
    "\n",
    "#expression \"farm\", iterable animals, condition none\n",
    "newlist5 = [\"farm\" for x in animals]\n",
    "print(\"Convert everything to farm: {}\".format(newlist5)) \n",
    "\n",
    "#expression x, iterable range(10), condition none\n",
    "newlist6 = [x for x in range(10)]\n",
    "print(\"All numbers in range of 0-10: {}\".format(newlist6)) \n",
    "\n",
    "#expression x, iterable range(10), condition x <= 6\n",
    "newlist7 = [x for x in range(15) if x <= 6]\n",
    "print(\"Numbers in range 0-15 that are less or equal to 6: {}\".format(newlist7)) \n",
    "\n",
    "#expression x, iterable animals, condition x != \"cat\", else \"goose\"\n",
    "newlist8 = [x if x != \"cat\" else \"goose\" for x in animals]\n",
    "print(\"List with cow only: {}\".format(newlist8)) \n"
   ]
  },
  {
   "cell_type": "markdown",
   "metadata": {},
   "source": [
    "#### Sort Lists\n",
    "We use the `sort()` method to sort lists.  \n",
    "By default the result will arrange in **ascending** order alphanumerically (small to big).  \n",
    "\n",
    "If the list contains capital and small letters eg `fruits = [\"apple\", \" Kiwi\", \"Fig\"]`;  \n",
    "Then by default, it will start with capitals first i.e `[\"Fig\", \"Kiwi\", \"apple\"]`   \n",
    "\n",
    "For a **case-insensitive function** use `fruits.sort(key = str.lower)`  \n",
    "\n",
    "To arrange in **descending** order use `sort(reverse = True)`  \n",
    "\n",
    "The `reverse()` method reverses the order of the list regardless of the case.  "
   ]
  },
  {
   "cell_type": "code",
   "execution_count": 44,
   "metadata": {},
   "outputs": [
    {
     "name": "stdout",
     "output_type": "stream",
     "text": [
      "Fruits list: ['apple', 'Kiwi', 'Watermelon', 'fig']\n",
      "fruits in ascending order: None\n",
      "fruits in ascending order: None\n",
      "my_list: [709, 4, 231, 9033]\n",
      "my_list in ascending order: None\n"
     ]
    }
   ],
   "source": [
    "fruits = [\"apple\", \"Kiwi\", \"Watermelon\", \"fig\"]\n",
    "print(\"Fruits list: {}\".format(fruits))\n",
    "print(\"fruits in ascending order: {}\".format(fruits.sort()))\n",
    "print(\"fruits in ascending order: {}\".format(fruits.sort(reverse = True)))\n",
    "\n",
    "my_list = [709, 4, 231, 9033]\n",
    "print(\"my_list: {}\".format(my_list))\n",
    "print(\"my_list in ascending order: {}\".format(my_list.sort()))\n"
   ]
  },
  {
   "cell_type": "markdown",
   "metadata": {},
   "source": [
    "#### Copy Lists\n",
    "+ The `copy()` method.    \n",
    "E.g `list2 = list1.copy()`  \n",
    "- The `list()` method.  \n",
    "    ```python\n",
    "    list1 = [\"cup\", \"spoon\", \"fork\"]\n",
    "    list2 = list(list1)\n",
    "    ```   \n",
    "\n",
    "    >NOTE  \n",
    "    >`list2 = list1` will not copy the list as changes in list1 will be made to list2.  \n",
    "\n",
    "#### Join Lists\n",
    "+ The `+` operator   \n",
    "E.g `list3 = list1 + list2`  \n",
    "- The `extend()` method  \n",
    "E.g `list1.extend(list2)`  "
   ]
  },
  {
   "cell_type": "code",
   "execution_count": 45,
   "metadata": {},
   "outputs": [
    {
     "name": "stdout",
     "output_type": "stream",
     "text": [
      "Cutlery list: ['cup', 'spoon', 'fork']\n",
      "COPY LISTS\n",
      "Copy cutlery using copy(): ['cup', 'spoon', 'fork']\n",
      "Copy cutlery using list(): ['cup', 'spoon', 'fork']\n",
      "JOIN LISTS\n",
      "Using the + operator: ['cup', 'spoon', 'fork', 'appetizer', 'main', 'dessert']\n",
      "Using extend(): ['cup', 'spoon', 'fork', 'appetizer', 'main', 'dessert']\n"
     ]
    }
   ],
   "source": [
    "cutlery = [\"cup\", \"spoon\", \"fork\"]\n",
    "course = [\"appetizer\", \"main\", \"dessert\"]\n",
    "print(\"Cutlery list: {}\".format(cutlery))\n",
    "\n",
    "print(\"COPY LISTS\")\n",
    "copy_cutlery = cutlery.copy()\n",
    "print(\"Copy cutlery using copy(): {}\".format(copy_cutlery))\n",
    "\n",
    "copy_cutlery2 = list(cutlery)\n",
    "print(\"Copy cutlery using list(): {}\".format(copy_cutlery2))\n",
    "\n",
    "print(\"JOIN LISTS\")\n",
    "join_list1 = cutlery + course\n",
    "print(\"Using the + operator: {}\".format(join_list1))\n",
    "\n",
    "cutlery.extend(course)\n",
    "print(\"Using extend(): {}\".format(cutlery))\n",
    "\n"
   ]
  },
  {
   "cell_type": "markdown",
   "metadata": {},
   "source": [
    "#### `count()` and `index()` method.  \n",
    "+ The `count()` method  \n",
    "This returns the number of items with a specific value.  \n",
    "- The `index()` method  \n",
    "This returns the index of a specific item.  "
   ]
  },
  {
   "cell_type": "code",
   "execution_count": 46,
   "metadata": {},
   "outputs": [
    {
     "name": "stdout",
     "output_type": "stream",
     "text": [
      "Count of 'spoon' is: 3\n",
      "Index of 'fork' is: 2\n"
     ]
    }
   ],
   "source": [
    "cutlery = [\"cup\", \"spoon\", \"fork\", \"spoon\", \"cup\", \"spoon\"]\n",
    "a= cutlery.count(\"spoon\")\n",
    "print(\"Count of 'spoon' is: {}\".format(a))\n",
    "\n",
    "b = cutlery.index(\"fork\")\n",
    "print(\"Index of 'fork' is: {}\".format(b))"
   ]
  },
  {
   "cell_type": "markdown",
   "metadata": {},
   "source": [
    "#### List Methods\n",
    "- `append()`Add item to end of list  \n",
    "+ `clear()`Clears the list but the list is still present  \n",
    "- `copy()`Returns a copy of the list  \n",
    "+ `count()`Returns number of items with a specific value       \n",
    "- `extend()`Add item/list to end of list  \n",
    "+ `index()` Returns the index of a speciifc item  \n",
    "- `insert()`Add item at specific position\n",
    "+ `pop()`Remove item at specific position  \n",
    "- `remove()`Remove specific item  \n",
    "+ `reverse()`Reverse order regardless of case  \n",
    "- `sort()`Sort list(default is ascending order)   "
   ]
  }
 ],
 "metadata": {
  "kernelspec": {
   "display_name": ".venv",
   "language": "python",
   "name": "python3"
  },
  "language_info": {
   "codemirror_mode": {
    "name": "ipython",
    "version": 3
   },
   "file_extension": ".py",
   "mimetype": "text/x-python",
   "name": "python",
   "nbconvert_exporter": "python",
   "pygments_lexer": "ipython3",
   "version": "3.12.3"
  }
 },
 "nbformat": 4,
 "nbformat_minor": 2
}
