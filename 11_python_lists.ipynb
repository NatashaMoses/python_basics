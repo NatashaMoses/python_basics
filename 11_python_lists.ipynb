{
 "cells": [
  {
   "cell_type": "markdown",
   "metadata": {},
   "source": [
    "### **Python Lists**\n",
    "\n",
    "List`[]` - Ordered, Changeable, Allow Duplicates.  \n",
    "Tuple`()` - Ordered, Unchangeable, Allow Duplicates.  \n",
    "Set`{}` - Unordered, Unchangeable, Don't Allow Duplicates.  \n",
    "Dictionary`{}` - Ordered, Changeable, Don't Allow Duplicates.  \n",
    "\n",
    "Lists are:\n",
    "+ **Ordered**  \n",
    "\n",
    "- **Changeable**  \n",
    "\n",
    "+ **Allow Duplicates**  \n",
    "\n",
    "\n",
    "#### **Create List**\n",
    "The `list()` function is used to create a list.  \n",
    "You can also use `[]` to create a list.  \n",
    "Items in a list can be of any data type.  \n",
    "\n",
    "#### **List Length/Data Type**\n",
    "The `len()` function is used to get the length of a list.  \n",
    "The `type()` function returns the data type of the list.  "
   ]
  },
  {
   "cell_type": "code",
   "execution_count": 12,
   "metadata": {},
   "outputs": [
    {
     "name": "stdout",
     "output_type": "stream",
     "text": [
      "5\n",
      "list1 has length of 5\n",
      "<class 'list'>\n"
     ]
    }
   ],
   "source": [
    "# Create List\n",
    "#mylist = list((\"John\", -29.0, \"Jane\", 75+9j, True))    #using list() function\n",
    "list1 = [\"cat\", \"dog\", \"hen\", \"cow\", \"rabbit\"]  #using []\n",
    "\n",
    "# List Length\n",
    "length = len(list1)\n",
    "print(length)\n",
    "print(\"list1 has length of {}\".format(length))\n",
    "\n",
    "# Get Data Type\n",
    "datatype = type(list1)\n",
    "print(datatype)\n"
   ]
  }
 ],
 "metadata": {
  "kernelspec": {
   "display_name": ".venv",
   "language": "python",
   "name": "python3"
  },
  "language_info": {
   "codemirror_mode": {
    "name": "ipython",
    "version": 3
   },
   "file_extension": ".py",
   "mimetype": "text/x-python",
   "name": "python",
   "nbconvert_exporter": "python",
   "pygments_lexer": "ipython3",
   "version": "3.12.3"
  }
 },
 "nbformat": 4,
 "nbformat_minor": 2
}
