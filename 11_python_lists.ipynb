{
 "cells": [
  {
   "cell_type": "markdown",
   "metadata": {},
   "source": [
    "### **Python Lists**\n",
    "\n",
    "List`[]` - Ordered, Changeable, Allow Duplicates.  \n",
    "Tuple`()` - Ordered, Unchangeable, Allow Duplicates.  \n",
    "Set`{}` - Unordered, Unchangeable, Don't Allow Duplicates.  \n",
    "Dictionary`{}` - Ordered, Changeable, Don't Allow Duplicates.  \n",
    "\n",
    "Lists are:\n",
    "+ **Ordered**  \n",
    "\n",
    "- **Changeable**  \n",
    "\n",
    "+ **Allow Duplicates**  \n",
    "\n",
    "\n",
    "#### Create List\n",
    "The `list()` function is used to create a list.  \n",
    "You can also use `[]` to create a list.  \n",
    "Items in a list can be of any data type.  \n",
    "\n",
    "#### List Length/Data Type\n",
    "The `len()` function is used to get the length of a list.  \n",
    "The `type()` function returns the data type of the list.  "
   ]
  },
  {
   "cell_type": "code",
   "execution_count": 1,
   "metadata": {},
   "outputs": [
    {
     "name": "stdout",
     "output_type": "stream",
     "text": [
      "5\n",
      "list1 has length of 5\n",
      "<class 'list'>\n"
     ]
    }
   ],
   "source": [
    "# Create List\n",
    "#mylist = list((\"John\", -29.0, \"Jane\", 75+9j, True))    #using list() function\n",
    "list1 = [\"cat\", \"dog\", \"hen\", \"cow\", \"rabbit\"]  #using []\n",
    "\n",
    "# List Length\n",
    "length = len(list1)\n",
    "print(length)\n",
    "print(\"list1 has length of {}\".format(length))\n",
    "\n",
    "# Get Data Type\n",
    "datatype = type(list1)\n",
    "print(datatype)"
   ]
  },
  {
   "cell_type": "markdown",
   "metadata": {},
   "source": [
    "#### Access List Items \n",
    "Items in a list are ordered starting from 0.  \n",
    "I.e the **first** item in the list is index `0`.  \n",
    "The **last** item in the list is index `-1`.  \n",
    "The **second last** item is index `-2` etc.  \n",
    "\n",
    "\n",
    "#### Change List Items"
   ]
  },
  {
   "cell_type": "code",
   "execution_count": 2,
   "metadata": {},
   "outputs": [
    {
     "name": "stdout",
     "output_type": "stream",
     "text": [
      "ACCESS LIST ITEMS\n",
      "cat\n",
      "dog\n",
      "rabbit\n",
      "['dog', 'hen']\n",
      "['cat', 'dog', 'hen', 'cow']\n",
      "['dog', 'hen', 'cow', 'rabbit']\n",
      "['hen', 'cow']\n",
      "CHANGE LIST ITEMS\n"
     ]
    }
   ],
   "source": [
    "list1 = [\"cat\", \"dog\", \"hen\", \"cow\", \"rabbit\"]\n",
    "\n",
    "print(\"ACCESS LIST ITEMS\")\n",
    "print(list1[0])\n",
    "print(list1[1])\n",
    "print(list1[-1])\n",
    "print(list1[1:3])\n",
    "print(list1[:4])\n",
    "print(list1[1:])\n",
    "print(list1[-3:-1])\n",
    "\n",
    "\n",
    "print(\"CHANGE LIST ITEMS\")"
   ]
  },
  {
   "cell_type": "markdown",
   "metadata": {},
   "source": [
    "#### Add List Items\n",
    "\n",
    "+ The `append()` function.  \n",
    "\n",
    "- The `insert()` function.  \n",
    "\n",
    "+ The `extend()` function.  \n",
    "\n",
    "\n",
    "\n",
    "#### Remove List Items\n",
    "+ The `remove()` function.  \n",
    "\n",
    "- The `pop()` function.  \n",
    "    \n",
    "+ The `clear()` function.  \n",
    "    This deletes all items in the list.  \n",
    "    The list will still be present but empty.  \n",
    "- The `del` keyword.\n",
    "    This deletes the whole list.          "
   ]
  },
  {
   "cell_type": "code",
   "execution_count": 3,
   "metadata": {},
   "outputs": [
    {
     "name": "stdout",
     "output_type": "stream",
     "text": [
      "ADD LIST ITEMS\n",
      "Using append()\n",
      "Using insert()\n",
      "Using extend()\n",
      "REMOVE LIST ITEMS\n",
      "Using remove()\n",
      "Using pop()\n",
      "Using clear()\n",
      "Using del\n"
     ]
    }
   ],
   "source": [
    "list1 = [\"cat\", \"dog\", \"hen\", \"cow\", \"rabbit\"]\n",
    "\n",
    "print(\"ADD LIST ITEMS\")\n",
    "print(\"Using append()\")\n",
    "\n",
    "\n",
    "print(\"Using insert()\")\n",
    "\n",
    "\n",
    "print(\"Using extend()\")\n",
    "\n",
    "print(\"REMOVE LIST ITEMS\")\n",
    "print(\"Using remove()\")\n",
    "\n",
    "\n",
    "print(\"Using pop()\")\n",
    "\n",
    "\n",
    "print(\"Using clear()\")\n",
    "\n",
    "\n",
    "\n",
    "print(\"Using del\")\n",
    "\n"
   ]
  },
  {
   "cell_type": "markdown",
   "metadata": {},
   "source": []
  }
 ],
 "metadata": {
  "kernelspec": {
   "display_name": ".venv",
   "language": "python",
   "name": "python3"
  },
  "language_info": {
   "codemirror_mode": {
    "name": "ipython",
    "version": 3
   },
   "file_extension": ".py",
   "mimetype": "text/x-python",
   "name": "python",
   "nbconvert_exporter": "python",
   "pygments_lexer": "ipython3",
   "version": "3.12.3"
  }
 },
 "nbformat": 4,
 "nbformat_minor": 2
}
