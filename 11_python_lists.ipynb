{
 "cells": [
  {
   "cell_type": "markdown",
   "metadata": {},
   "source": [
    "### **Python Lists**\n",
    "\n",
    "List`[]` - Ordered, Changeable, Allow Duplicates.  \n",
    "Tuple`()` - Ordered, Unchangeable, Allow Duplicates.  \n",
    "Set`{}` - Unordered, Unchangeable, Don't Allow Duplicates.  \n",
    "Dictionary`{}` - Ordered, Changeable, Don't Allow Duplicates.  \n",
    "\n",
    "Lists are:\n",
    "+ **Ordered**  \n",
    "\n",
    "- **Changeable**  \n",
    "\n",
    "+ **Allow Duplicates**  \n",
    "\n",
    "\n",
    "#### **Create List**\n",
    "The `list()` function is used to create a list.  \n",
    "You can also use `[]` to create a list.  \n",
    "Items in a list can be of any data type.  \n",
    "\n",
    "#### **List Length/Data Type**\n",
    "The `len()` function is used to get the length of a list.  \n",
    "The `type()` function returns the data type of the list.  \n",
    "\n",
    "#### **Access List Items**  \n",
    "Items in a list are ordered starting from 0.  \n",
    "I.e the **first** item in the list is index `0`.  \n",
    "The **last** item in the list is index `-1`.  \n",
    "The **second last** item is index `-2` etc.  \n"
   ]
  },
  {
   "cell_type": "code",
   "execution_count": 18,
   "metadata": {},
   "outputs": [
    {
     "ename": "SyntaxError",
     "evalue": "unexpected character after line continuation character (2611546231.py, line 12)",
     "output_type": "error",
     "traceback": [
      "\u001b[1;36m  Cell \u001b[1;32mIn[18], line 12\u001b[1;36m\u001b[0m\n\u001b[1;33m    print(datatype\\njn)\u001b[0m\n\u001b[1;37m                   ^\u001b[0m\n\u001b[1;31mSyntaxError\u001b[0m\u001b[1;31m:\u001b[0m unexpected character after line continuation character\n"
     ]
    }
   ],
   "source": [
    "# Create List\n",
    "#mylist = list((\"John\", -29.0, \"Jane\", 75+9j, True))    #using list() function\n",
    "list1 = [\"cat\", \"dog\", \"hen\", \"cow\", \"rabbit\"]  #using []\n",
    "\n",
    "# List Length\n",
    "length = len(list1)\n",
    "print(length)\n",
    "print(\"list1 has length of {}\".format(length))\n",
    "\n",
    "# Get Data Type\n",
    "datatype = type(list1)\n",
    "print(datatype)\n",
    "\n",
    "print(\"ACCESS LIST ITEMS\")\n",
    "print(list1[0])\n",
    "print(list1[1])\n",
    "print(list1[-1])\n",
    "print(list1[1:3])\n",
    "print(list1[:4])\n",
    "print(list1[1:])\n",
    "print(list1[-3:-1])\n",
    "\n",
    "\n"
   ]
  }
 ],
 "metadata": {
  "kernelspec": {
   "display_name": ".venv",
   "language": "python",
   "name": "python3"
  },
  "language_info": {
   "codemirror_mode": {
    "name": "ipython",
    "version": 3
   },
   "file_extension": ".py",
   "mimetype": "text/x-python",
   "name": "python",
   "nbconvert_exporter": "python",
   "pygments_lexer": "ipython3",
   "version": "3.12.3"
  }
 },
 "nbformat": 4,
 "nbformat_minor": 2
}
