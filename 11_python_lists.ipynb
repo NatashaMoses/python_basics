{
 "cells": [
  {
   "cell_type": "markdown",
   "metadata": {},
   "source": [
    "### **Python Lists**\n",
    "\n",
    "List`[]` - Ordered, Changeable, Allow Duplicates.  \n",
    "Tuple`()` - Ordered, Unchangeable, Allow Duplicates.  \n",
    "Set`{}` - Unordered, Unchangeable, Don't Allow Duplicates.  \n",
    "Dictionary`{}` - Ordered, Changeable, Don't Allow Duplicates.  \n",
    "\n",
    "Lists are:\n",
    "+ **Ordered**  \n",
    "\n",
    "- **Changeable**  \n",
    "\n",
    "+ **Allow Duplicates**  \n",
    "\n",
    "\n",
    "#### Create List\n",
    "Lists are created using `[]`  \n",
    "You can aslo use the `list()` function to create a list.  \n",
    "Items in a list can be of any data type.  \n",
    "\n",
    "#### List Length/Data Type\n",
    "The `len()` function is used to get the length of a list.  \n",
    "The `type()` function returns the data type of the list.  "
   ]
  },
  {
   "cell_type": "code",
   "execution_count": 66,
   "metadata": {},
   "outputs": [
    {
     "name": "stdout",
     "output_type": "stream",
     "text": [
      "5\n",
      "list1 has length of 5\n",
      "<class 'list'>\n"
     ]
    }
   ],
   "source": [
    "# Create List\n",
    "#mylist = list((\"John\", -29.0, \"Jane\", 75+9j, True))    #using list() function\n",
    "list1 = [\"cat\", 28.56, \"hen\", False, \"rabbit\"]  #this is a list with different datatypes.\n",
    "\n",
    "# List Length\n",
    "length = len(list1)\n",
    "print(length)\n",
    "print(\"list1 has length of {}\".format(length))\n",
    "\n",
    "# Get Data Type\n",
    "datatype = type(list1)\n",
    "print(datatype)"
   ]
  },
  {
   "cell_type": "markdown",
   "metadata": {},
   "source": [
    "#### Access List Items \n",
    "Items in a list are ordered starting from 0.  \n",
    "I.e the **first** item in the list is index `0`.  \n",
    "The **second** item in the list is index `1`.  \n",
    "\n",
    "You can also acccess list items from the last item.  \n",
    "This is known as **negative indexing**.  \n",
    "The **last** item in the list is index `-1`.  \n",
    "The **second last** item is index `-2` etc. \n",
    "  \n",
    "To access more than one item, you separate the indexes by a colon.  \n",
    "E.g `list1[1:3]`  \n",
    "Note that the item in the last index is excluded.  \n",
    "I.e `list1[1:3]` will access item in index 1 and 2 only, 3 is excluded.   \n",
    "The same happens in the case of `list1[-4:-2]`  \n",
    "This will access item in index -4 and -3 only, -2 is excluded.  \n",
    "  \n",
    "If the starting index is not specified, it will access from index 0.  \n",
    "E.g `list1[:3]` will access item in index 0, 1 and 2.  \n",
    "If the ending index is not specified, it will access up to the last item.  \n",
    "E.g `list1[3:]` will access item in index 3 to the last index.  \n",
    "\n"
   ]
  },
  {
   "cell_type": "code",
   "execution_count": 67,
   "metadata": {},
   "outputs": [
    {
     "name": "stdout",
     "output_type": "stream",
     "text": [
      "ACCESS LIST ITEMS\n",
      "cat\n",
      "Item in index 0 is cat\n",
      "dog\n",
      "Item in index 1 is dog\n",
      "rabbit\n",
      "Item in index -1 is rabbit\n",
      "['dog', 'hen']\n",
      "Items in index 1 and 2 are ['dog', 'hen']\n",
      "['hen', 'cow']\n",
      "Items in index -3 and -2 are ['hen', 'cow']\n",
      "['cat', 'dog', 'hen', 'cow']\n",
      "Items from index 0 to index 3 are ['cat', 'dog', 'hen', 'cow']\n",
      "['dog', 'hen', 'cow', 'rabbit']\n",
      "Items from index 1 to last index are ['dog', 'hen', 'cow', 'rabbit']\n"
     ]
    }
   ],
   "source": [
    "list1 = [\"cat\", \"dog\", \"hen\", \"cow\", \"rabbit\"]\n",
    "\n",
    "print(\"ACCESS LIST ITEMS\")\n",
    "print(list1[0])\n",
    "print(\"Item in index 0 is {}\".format(list1[0]))\n",
    "print(list1[1])\n",
    "print(\"Item in index 1 is {}\".format(list1[1]))\n",
    "\n",
    "print(list1[-1])\n",
    "print(\"Item in index -1 is {}\".format(list1[-1]))\n",
    "\n",
    "print(list1[1:3])\n",
    "print(\"Items in index 1 and 2 are {}\".format(list1[1:3]))\n",
    "print(list1[-3:-1])\n",
    "print(\"Items in index -3 and -2 are {}\".format(list1[-3:-1]))\n",
    "\n",
    "print(list1[:4])\n",
    "print(\"Items from index 0 to index 3 are {}\".format(list1[:4]))\n",
    "print(list1[1:])\n",
    "print(\"Items from index 1 to last index are {}\".format(list1[1:]))"
   ]
  },
  {
   "cell_type": "markdown",
   "metadata": {},
   "source": [
    "#### Change List Items  \n",
    "We use indexing to change items in a list.  \n",
    "E.g `list1[1:3] = [\"blue\", \"red\"]`   \n",
    "Notice the items in the 1st and 2nd index will be replaced with \"blue\" and \"red\".  \n",
    "Here two items accessed and two items replaced   \n",
    "\n",
    "However if you replace **more** items than accessed eg `list1[1:2] = [\"blue\", \"red\"]`  \n",
    "This will replace item in index 1 with \"blue\" and \"red\".  \n",
    "The resulting list will therefore have a longer length than original list.  \n",
    "\n",
    "If you replace **less** items than accessed eg `list1[1:3] = [\"blue\"]`  \n",
    "This will replace items in both index 1 and 2 with \"blue\".    \n",
    "The resulting list will therefore have a smaller length than original list.  "
   ]
  },
  {
   "cell_type": "code",
   "execution_count": 68,
   "metadata": {},
   "outputs": [
    {
     "name": "stdout",
     "output_type": "stream",
     "text": [
      "CHANGE LIST ITEMS\n",
      "Original List: ['red', 'blue', 'black', 'pink', 'white']\n",
      "Change item in index 1: ['red', 'purple', 'black', 'pink', 'white']\n",
      "Change item in index -2: ['red', 'purple', 'black', 'green', 'white']\n",
      "Change item in index 1 and 2: ['red', 'yellow', 'brown', 'green', 'white']\n",
      "Replace more items: ['red', 'orange', 'indigo', 'gray', 'green', 'white']\n",
      "Replace less items: ['red', 'violet', 'gray', 'green', 'white']\n"
     ]
    }
   ],
   "source": [
    "print(\"CHANGE LIST ITEMS\")\n",
    "colors = [\"red\", \"blue\", \"black\", \"pink\", \"white\"]\n",
    "print(\"Original List: {}\".format(colors))\n",
    "\n",
    "colors[1] = \"purple\"  #change item in index 1 to purple\n",
    "print(\"Change item in index 1: {}\".format(colors))\n",
    "\n",
    "colors[-2] = \"green\"  #change item in index -2 to green\n",
    "print(\"Change item in index -2: {}\".format(colors))\n",
    "\n",
    "colors[1:3] = [\"yellow\", \"brown\"]\n",
    "print(\"Change item in index 1 and 2: {}\".format(colors))\n",
    "\n",
    "#Replace more items than accessed\n",
    "colors[1:3] = [\"orange\", \"indigo\", \"gray\"]\n",
    "print(\"Replace more items: {}\".format(colors))\n",
    "\n",
    "#Replace less items than accessed\n",
    "colors[1:3] = [\"violet\"]\n",
    "print(\"Replace less items: {}\".format(colors))"
   ]
  },
  {
   "cell_type": "markdown",
   "metadata": {},
   "source": [
    "#### Add List Items\n",
    "+ The `append()` function.   \n",
    "This adds an item at the end of a list e.g `list1.append(\"white\")`  \n",
    "\n",
    "- The `insert()` function.  \n",
    "This uses index to addd an item to a list e.g `list1.insert(2, \"green\")`  \n",
    "\n",
    "+ The `extend()` function.  \n",
    "This adds a list to another list e.g `list1.extend(list2)`  \n",
    "It can also add a tuple.  \n",
    "\n",
    "#### Remove List Items\n",
    "+ The `remove()` function.  \n",
    "This removes a specific item e.g `list1.remove(\"black\")`  \n",
    "Remember lists allow duplicates.  \n",
    "If there is more than one \"black\" in the list, it removes the first one.  \n",
    "\n",
    "- The `pop()` function.  \n",
    "This removes an item using index e.g `list.pop(2)` removes item at index 2.  \n",
    "If index is not specified e.g `list.pop()` it removes the last item.  \n",
    "\n",
    "+ The `clear()` function.  \n",
    "This deletes all items in the list.  \n",
    "The list will still be present but empty.  \n",
    "\n",
    "- The `del` keyword.  \n",
    "This deletes the whole list.          "
   ]
  },
  {
   "cell_type": "code",
   "execution_count": 69,
   "metadata": {},
   "outputs": [
    {
     "name": "stdout",
     "output_type": "stream",
     "text": [
      "ADD LIST ITEMS\n",
      "Using append()\n",
      "['cat', 'dog', 'hen', 'cow', 'rabbit', 'dog', 'sheep']\n",
      "Using insert()\n",
      "['cat', 'dog', 'hen', 'goose', 'cow', 'rabbit', 'dog', 'sheep']\n",
      "Using extend()\n",
      "['cat', 'dog', 'hen', 'goose', 'cow', 'rabbit', 'dog', 'sheep', 'ant', 'bee']\n",
      "REMOVE LIST ITEMS\n",
      "Using remove()\n",
      "['cat', 'hen', 'goose', 'cow', 'rabbit', 'dog', 'sheep', 'ant', 'bee']\n",
      "Using pop()\n",
      "['cat', 'hen', 'goose', 'rabbit', 'dog', 'sheep', 'ant', 'bee']\n",
      "['cat', 'hen', 'goose', 'rabbit', 'dog', 'sheep', 'ant']\n",
      "Using clear()\n",
      "[]\n",
      "Using del\n"
     ]
    }
   ],
   "source": [
    "animals = [\"cat\", \"dog\", \"hen\", \"cow\", \"rabbit\", \"dog\"]\n",
    "insects = [\"ant\", \"bee\"]\n",
    "\n",
    "print(\"ADD LIST ITEMS\")\n",
    "print(\"Using append()\")\n",
    "animals.append(\"sheep\")\n",
    "print(animals)\n",
    "\n",
    "print(\"Using insert()\")\n",
    "animals.insert(3, \"goose\") #insert at index 3\n",
    "print(animals)\n",
    "\n",
    "print(\"Using extend()\")\n",
    "animals.extend(insects)\n",
    "print(animals)\n",
    "\n",
    "print(\"REMOVE LIST ITEMS\")\n",
    "print(\"Using remove()\")\n",
    "animals.remove(\"dog\")    #remove only the first \"dog\"\n",
    "print(animals)\n",
    "\n",
    "print(\"Using pop()\")\n",
    "animals.pop(3)           #remove item at index 3 \n",
    "print(animals)\n",
    "animals.pop()            #remove last item\n",
    "print(animals)\n",
    "\n",
    "print(\"Using clear()\")\n",
    "insects.clear()          #return empty list []\n",
    "print(insects)\n",
    "\n",
    "print(\"Using del\")\n",
    "del insects\n",
    "# print(insects) will raise an error as del deletes the whole list\n"
   ]
  },
  {
   "cell_type": "markdown",
   "metadata": {},
   "source": [
    "#### Loop Lists  \n",
    "\n",
    "+ For Loop  \n",
    "- While Loop  \n",
    "+ One Line  "
   ]
  },
  {
   "cell_type": "code",
   "execution_count": 70,
   "metadata": {},
   "outputs": [
    {
     "name": "stdout",
     "output_type": "stream",
     "text": [
      "FOR LOOP\n",
      "A\n",
      "B\n",
      "C\n",
      "D\n",
      "WHILE LOOP\n",
      "A\n",
      "B\n",
      "C\n",
      "D\n",
      "hbovub\n",
      "A\n",
      "B\n",
      "C\n",
      "D\n"
     ]
    },
    {
     "data": {
      "text/plain": [
       "[None, None, None, None]"
      ]
     },
     "execution_count": 70,
     "metadata": {},
     "output_type": "execute_result"
    }
   ],
   "source": [
    "grades = [\"A\", \"B\", \"C\", \"D\"]\n",
    "\n",
    "print(\"FOR LOOP\")\n",
    "for i in range(len(grades)):\n",
    "    print(grades[i])\n",
    "\n",
    "print(\"WHILE LOOP\")\n",
    "i = 0\n",
    "while i < len(grades):\n",
    "    print(grades[i])\n",
    "    i = i + 1\n",
    "\n",
    "print(\"hbovub\")\n",
    "[print (x) for x in grades]\n",
    "\n"
   ]
  },
  {
   "cell_type": "markdown",
   "metadata": {},
   "source": [
    "#### List Comprehension\n",
    "\n",
    "This offers a short syntax of creating a new list.  \n",
    "```python\n",
    "animals = [\"cat\", \"dog\", \"hen\", \"cow\", \"rabbit\", \"camel\"]\n",
    "newlist = []\n",
    "for x in animals:\n",
    "    if \"c\" in x:\n",
    "        newlist.append(x)\n",
    "print(newlist)        \n",
    "```  \n",
    "This can also be written as:  \n",
    "```python\n",
    "animals = [\"cat\", \"dog\", \"hen\", \"cow\", \"rabbit\", \"dog\", \"camel\"]\n",
    "newlist = [x for x in animals if \"c\" in x]\n",
    "print(newlist)\n",
    "```  \n",
    "The synatx for list comprehension is:  \n",
    "```python\n",
    "newlist = [expression for item in iterable if condition == True]\n",
    "```"
   ]
  },
  {
   "cell_type": "code",
   "execution_count": 71,
   "metadata": {},
   "outputs": [
    {
     "name": "stdout",
     "output_type": "stream",
     "text": [
      "Original Animal List: ['cat', 'dog', 'hen', 'cow', 'rabbit', 'dog', 'camel']\n",
      "Original New list: ['cat', 'cow', 'camel']\n",
      "Original New list using list comprehension: ['cat', 'cow', 'camel']\n",
      "List with cow only: ['cow']\n",
      "List without dog: ['cat', 'hen', 'cow', 'rabbit', 'camel']\n",
      "Animal list: ['cat', 'dog', 'hen', 'cow', 'rabbit', 'dog', 'camel']\n",
      "Convert animal list to upper case: ['CAT', 'DOG', 'HEN', 'COW', 'RABBIT', 'DOG', 'CAMEL']\n",
      "Convert everything to farm: ['farm', 'farm', 'farm', 'farm', 'farm', 'farm', 'farm']\n",
      "All numbers in range of 0-10: [0, 1, 2, 3, 4, 5, 6, 7, 8, 9]\n",
      "Numbers in range 0-15 that are less or equal to 6: [0, 1, 2, 3, 4, 5, 6]\n",
      "List with cow only: ['goose', 'dog', 'hen', 'cow', 'rabbit', 'dog', 'camel']\n"
     ]
    }
   ],
   "source": [
    "animals = [\"cat\", \"dog\", \"hen\", \"cow\", \"rabbit\", \"dog\", \"camel\"]\n",
    "print(\"Original Animal List: {}\".format(animals))\n",
    "newlist = []\n",
    "for x in animals:\n",
    "    if \"c\" in x:\n",
    "        newlist.append(x)\n",
    "print(\"Original New list: {}\".format(newlist))    \n",
    "\n",
    "newlist = [x for x in animals if \"c\" in x]\n",
    "print(\"Original New list using list comprehension: {}\".format(newlist))   \n",
    "\n",
    "newlist1 = [x for x in animals if x == \"cow\"]\n",
    "print(\"List with cow only: {}\".format(newlist1)) \n",
    "\n",
    "newlist2 = [x for x in animals if x != \"dog\"]\n",
    "print(\"List without dog: {}\".format(newlist2)) \n",
    "\n",
    "\n",
    "newlist3 = [x for x in animals]\n",
    "print(\"Animal list: {}\".format(newlist3))  \n",
    "\n",
    "newlist4 = [x.upper() for x in animals]\n",
    "print(\"Convert animal list to upper case: {}\".format(newlist4))  \n",
    "\n",
    "newlist5 = [\"farm\" for x in animals]\n",
    "print(\"Convert everything to farm: {}\".format(newlist5)) \n",
    "\n",
    "newlist6 = [x for x in range(10)]\n",
    "print(\"All numbers in range of 0-10: {}\".format(newlist6)) \n",
    "\n",
    "newlist7 = [x for x in range(15) if x<=6]\n",
    "print(\"Numbers in range 0-15 that are less or equal to 6: {}\".format(newlist7)) \n",
    "\n",
    "newlist8 = [x if x!= \"cat\" else \"goose\" for x in animals]\n",
    "print(\"List with cow only: {}\".format(newlist8)) \n"
   ]
  },
  {
   "cell_type": "markdown",
   "metadata": {},
   "source": [
    "#### Sort Lists\n",
    "We use the `sort()` function to sort lists.  \n",
    "By default the result will arrange in **ascending** order alphanumerically (small to big).  \n",
    "\n",
    "If the list contains capital and small letters eg `fruits = [\"apple\", \"kiwi\", \"Fig\"]`;  \n",
    "Then it will arrange in order of length i.e `[\"Fig\", \"kiwi\", \"apple\"]`   \n",
    "\n",
    "If   \n",
    "To arrange in **descending** order use `sort(reverse = True)`  \n",
    "\n",
    "The `reverse()` function reverses the order of the list regardless of the case.  "
   ]
  },
  {
   "cell_type": "code",
   "execution_count": 72,
   "metadata": {},
   "outputs": [
    {
     "name": "stdout",
     "output_type": "stream",
     "text": [
      "Fruits list: ['apple', 'Kiwi', 'Watermelon', 'fig']\n",
      "fruits in ascending order: None\n",
      "fruits in ascending order: None\n",
      "my_list: [709, 4, 231, 9033]\n",
      "my_list in ascending order: None\n",
      "my_list2: None\n"
     ]
    },
    {
     "ename": "AttributeError",
     "evalue": "'NoneType' object has no attribute 'sort'",
     "output_type": "error",
     "traceback": [
      "\u001b[1;31m---------------------------------------------------------------------------\u001b[0m",
      "\u001b[1;31mAttributeError\u001b[0m                            Traceback (most recent call last)",
      "Cell \u001b[1;32mIn[72], line 12\u001b[0m\n\u001b[0;32m     10\u001b[0m my_list2 \u001b[38;5;241m=\u001b[39m fruits\u001b[38;5;241m.\u001b[39mextend(my_list)       \u001b[38;5;66;03m#combine my_list and fruits\u001b[39;00m\n\u001b[0;32m     11\u001b[0m \u001b[38;5;28mprint\u001b[39m(\u001b[38;5;124m\"\u001b[39m\u001b[38;5;124mmy_list2: \u001b[39m\u001b[38;5;132;01m{}\u001b[39;00m\u001b[38;5;124m\"\u001b[39m\u001b[38;5;241m.\u001b[39mformat(my_list2))\n\u001b[1;32m---> 12\u001b[0m \u001b[38;5;28mprint\u001b[39m(\u001b[38;5;124m\"\u001b[39m\u001b[38;5;124mmy_list2 in ascending order: \u001b[39m\u001b[38;5;132;01m{}\u001b[39;00m\u001b[38;5;124m\"\u001b[39m\u001b[38;5;241m.\u001b[39mformat(\u001b[43mmy_list2\u001b[49m\u001b[38;5;241;43m.\u001b[39;49m\u001b[43msort\u001b[49m()))\n",
      "\u001b[1;31mAttributeError\u001b[0m: 'NoneType' object has no attribute 'sort'"
     ]
    }
   ],
   "source": [
    "fruits = [\"apple\", \"Kiwi\", \"Watermelon\", \"fig\"]\n",
    "print(\"Fruits list: {}\".format(fruits))\n",
    "print(\"fruits in ascending order: {}\".format(fruits.sort()))\n",
    "print(\"fruits in ascending order: {}\".format(fruits.sort(reverse = True)))\n",
    "\n",
    "my_list = [709, 4, 231, 9033]\n",
    "print(\"my_list: {}\".format(my_list))\n",
    "print(\"my_list in ascending order: {}\".format(my_list.sort()))\n",
    "\n",
    "my_list2 = fruits.extend(my_list)       #combine my_list and fruits\n",
    "print(\"my_list2: {}\".format(my_list2))\n",
    "print(\"my_list2 in ascending order: {}\".format(my_list2.sort()))\n",
    "\n",
    "\n"
   ]
  },
  {
   "cell_type": "markdown",
   "metadata": {},
   "source": [
    "#### Copy Lists\n",
    "The `copy()` function is used to copy lists.  \n",
    "E.g `list2 = list1.copy()`  \n",
    "\n",
    ">NOTE  \n",
    ">`list2 = list1` will not   \n",
    ">This is because \n",
    "\n",
    "\n",
    "\n",
    "#### Join Lists\n",
    "+ The `+` operator   \n",
    "* The `extend()` function  "
   ]
  },
  {
   "cell_type": "code",
   "execution_count": 73,
   "metadata": {},
   "outputs": [
    {
     "name": "stdout",
     "output_type": "stream",
     "text": [
      "Cutlery list: ['cup', 'spoon', 'fork']\n",
      "COPY LISTS\n",
      "Copy cutlery: ['cup', 'spoon', 'fork']\n",
      "JOIN LISTS\n",
      "Using the + operator: ['cup', 'spoon', 'fork', 'appetizer', 'main', 'dessert']\n",
      "Using extend: None\n"
     ]
    }
   ],
   "source": [
    "cutlery = [\"cup\", \"spoon\", \"fork\"]\n",
    "course = [\"appetizer\", \"main\", \"dessert\"]\n",
    "print(\"Cutlery list: {}\".format(cutlery))\n",
    "\n",
    "print(\"COPY LISTS\")\n",
    "copy_cutlery = cutlery.copy()\n",
    "print(\"Copy cutlery: {}\".format(copy_cutlery))\n",
    "\n",
    "print(\"JOIN LISTS\")\n",
    "join_list1 = cutlery + course\n",
    "print(\"Using the + operator: {}\".format(join_list1))\n",
    "\n",
    "join_list2 = cutlery.extend(course)\n",
    "print(\"Using extend: {}\".format(join_list2))\n",
    "\n"
   ]
  },
  {
   "cell_type": "markdown",
   "metadata": {},
   "source": [
    "#### List Methods\n",
    "- `append()`Add item to end of list  \n",
    "+ `clear()`Clears the list but the list is still present  \n",
    "- `copy()`Returns a copy of the list  \n",
    "+ `count()`Returns number of elements with specified value  \n",
    "- `extend()`Add item/list to end of list  \n",
    "+ `index()`   \n",
    "- `insert()`Add item at specific position\n",
    "+ `pop()`Remove item at specific position  \n",
    "- `remove()`Remove specific item  \n",
    "+ `reverse()`Revers order regardless of case  \n",
    "- `sort()`Sort list(default is ascending order)   "
   ]
  }
 ],
 "metadata": {
  "kernelspec": {
   "display_name": ".venv",
   "language": "python",
   "name": "python3"
  },
  "language_info": {
   "codemirror_mode": {
    "name": "ipython",
    "version": 3
   },
   "file_extension": ".py",
   "mimetype": "text/x-python",
   "name": "python",
   "nbconvert_exporter": "python",
   "pygments_lexer": "ipython3",
   "version": "3.12.3"
  }
 },
 "nbformat": 4,
 "nbformat_minor": 2
}
