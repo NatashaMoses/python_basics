{
 "cells": [
  {
   "cell_type": "markdown",
   "metadata": {},
   "source": [
    "### **Python Lists**\n",
    "\n",
    "List`[]` - Ordered, Changeable, Allow Duplicates.  \n",
    "Tuple`()` - Ordered, Unchangeable, Allow Duplicates.  \n",
    "Set`{}` - Unordered, Unchangeable, Don't Allow Duplicates.  \n",
    "Dictionary`{}` - Ordered, Changeable, Don't Allow Duplicates.  \n",
    "\n",
    "Lists are:\n",
    "+ **Ordered**  \n",
    "\n",
    "- **Changeable**  \n",
    "\n",
    "+ **Allow Duplicates**  \n",
    "\n",
    "\n",
    "#### **Create List**\n",
    "The `list()` function is used to create a list.  \n",
    "You can also use `[]` to create a list.  \n",
    "\n",
    "#### **List Length/Data Type**\n",
    "The `len()` function is used to get the length of a list.  \n",
    "The `type()` function returns the data type of items in the list.  "
   ]
  },
  {
   "cell_type": "code",
   "execution_count": null,
   "metadata": {
    "vscode": {
     "languageId": "plaintext"
    }
   },
   "outputs": [],
   "source": []
  }
 ],
 "metadata": {
  "language_info": {
   "name": "python"
  }
 },
 "nbformat": 4,
 "nbformat_minor": 2
}
