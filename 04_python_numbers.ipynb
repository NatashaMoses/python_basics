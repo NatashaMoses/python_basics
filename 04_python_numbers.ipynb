{
 "cells": [
  {
   "cell_type": "markdown",
   "metadata": {},
   "source": [
    "### **Python Numbers**\n",
    "\n",
    "There are of three types: `int` `float` `complex`  \n",
    "\n",
    "#### Python Integers\n",
    "\n",
    "These are whole numbers both positive and negative.  \n",
    "They are whole numbers meaning they do not include decimals.  \n",
    "Eg. `x = -283873` or `y = 474` or `z = 1`  \n",
    "\n",
    "#### Python Float\n",
    "\n",
    "These are numbers positive or negative containing one or more decimal.  \n",
    "Eg. `a = -273.873463` or `b = 211.0` or `c = 244.9850`  \n",
    "They can also indicate the power of 10 using **e** or **E**  \n",
    "Eg. `A = -23.7E48` to mean -23.7*10<sup>48</sup>  \n",
    "\n",
    "#### Python Complex\n",
    "\n",
    "Are usually in the form of a+ib or a-ib where i is the imaginary part.  \n",
    "In Python, j is the imaginary part.  \n",
    "Eg. `X = 6.1j` or `Y = -2.5+4.95j` or `Z = -92j`  "
   ]
  },
  {
   "cell_type": "code",
   "execution_count": 1,
   "metadata": {},
   "outputs": [
    {
     "name": "stdout",
     "output_type": "stream",
     "text": [
      "<class 'int'>\n",
      "<class 'float'>\n",
      "<class 'float'>\n",
      "<class 'complex'>\n"
     ]
    }
   ],
   "source": [
    "#create int variables\n",
    "x = -283873                 #negative int\n",
    "y = 474                     #positive int\n",
    "z = 1                       #positive int\n",
    "\n",
    "#create float variables\n",
    "a = -273.873464             #negative float\n",
    "b = 211.0                   #positive float\n",
    "c = 244.9850                #positive float\n",
    "\n",
    "#create float using e or E\n",
    "A = -23.7E48\n",
    "B = 245e96\n",
    "\n",
    "#create complex variables\n",
    "X = 6.1j\n",
    "Y = -2.5+4.95j\n",
    "Z = -92j\n",
    "\n",
    "print(type(x))\n",
    "print(type(a))\n",
    "print(type(A))\n",
    "print(type(X))\n",
    "#feel free to check the data types of the other variables"
   ]
  },
  {
   "cell_type": "markdown",
   "metadata": {},
   "source": [
    "#### Conversion of Data Type\n",
    "\n",
    "You can convert:  \n",
    "1. int to float  \n",
    "2. int to complex    \n",
    "3. float to int  \n",
    "4. float to complex  \n",
    ">[NOTE]  \n",
    ">You cannot convert complex to any other datatype.  "
   ]
  },
  {
   "cell_type": "code",
   "execution_count": 2,
   "metadata": {},
   "outputs": [
    {
     "name": "stdout",
     "output_type": "stream",
     "text": [
      "12.0 (12+0j) -8372 (-8372.9932+0j)\n",
      "<class 'float'>\n",
      "<class 'complex'>\n",
      "<class 'int'>\n",
      "<class 'complex'>\n"
     ]
    }
   ],
   "source": [
    "X = 12\n",
    "Y = -8372.9932\n",
    "Z = 23.3-9j\n",
    "\n",
    "#convert int to float\n",
    "A = float(X)\n",
    "\n",
    "#convert int to complex\n",
    "B = complex(X)\n",
    "\n",
    "#convert float to int\n",
    "C = int(Y)\n",
    "\n",
    "#convert float to complex\n",
    "D = complex(Y)\n",
    "\n",
    "#converting complex to int or complex to float will give an error\n",
    "#eg E = int(Z) or F = complex(Z)\n",
    "\n",
    "print(A, B, C, D)\n",
    "\n",
    "print(type(A))\n",
    "print(type(B))\n",
    "print(type(C))\n",
    "print(type(D))"
   ]
  }
 ],
 "metadata": {
  "kernelspec": {
   "display_name": ".venv",
   "language": "python",
   "name": "python3"
  },
  "language_info": {
   "codemirror_mode": {
    "name": "ipython",
    "version": 3
   },
   "file_extension": ".py",
   "mimetype": "text/x-python",
   "name": "python",
   "nbconvert_exporter": "python",
   "pygments_lexer": "ipython3",
   "version": "3.12.3"
  }
 },
 "nbformat": 4,
 "nbformat_minor": 2
}
