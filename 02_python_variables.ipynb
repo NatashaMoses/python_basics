{
 "cells": [
  {
   "cell_type": "markdown",
   "metadata": {},
   "source": [
    "### **Python Variables**\n",
    "\n",
    "These are containers for storing data.  \n",
    "To create a variable you assign it to a certain value using **=** eg `x = 28` or `y = \"Alex\"`  \n",
    "Here the  variable x has been assigned to the value 28.  \n",
    "Variables are **case sensitive** so `x = 28` and `X = 28` are two diferent variables.  \n",
    "You can specify the data type while declaring the variable **(casting)** i.e `x=int(28)` `y=str(28)` `z=float(28)`    \n",
    "The values will have different data types.  \n",
    "To check for data type we use **type()** i.e `print(type(x))` `print(type(y))` `print(type(z))`  \n",
    "Use **del** to delete a variable eg `del x`"
   ]
  },
  {
   "cell_type": "code",
   "execution_count": 6,
   "metadata": {},
   "outputs": [
    {
     "name": "stdout",
     "output_type": "stream",
     "text": [
      "28\n",
      "Alex\n",
      "28\n",
      "<class 'int'>\n",
      "<class 'str'>\n",
      "<class 'float'>\n"
     ]
    }
   ],
   "source": [
    "#create three variables x,y,X and print\n",
    "x = 28\n",
    "y = \"Alex\" \n",
    "X = 28\n",
    "\n",
    "print(x)\n",
    "print(y)\n",
    "print(X)\n",
    "\n",
    "#create variables a,b,c by casting\n",
    "a = int(28)    #create integer variable\n",
    "b = str(28)    #create string variable\n",
    "c = float(28)  #create float variable\n",
    "\n",
    "#data type of a,b,c\n",
    "print(type(a))\n",
    "print(type(b))\n",
    "print(type(c))\n",
    "\n",
    "del x          #this deletes the variable x"
   ]
  },
  {
   "cell_type": "markdown",
   "metadata": {},
   "source": [
    "#### Variable Names\n",
    "\n",
    "There are specific rules for naming variables:  \n",
    "1.Must **start with letter** or _  \n",
    "2.Cannot start with a number.  \n",
    "3.Can only have A-z(upper and lower case), 0-9 and _ **no special characters** eg *,&,$,@ etc.    \n",
    "4.Cannot be any of **python keywords**.  \n",
    "5.Are **case-sensistive**.  \n",
    "For variables with many words, you can use **Snake** Case, **Camel** Case, **Pascal**  Case or your prefernce.  \n",
    "You can use any other way to name your variables as long as the rules are satisfied."
   ]
  },
  {
   "cell_type": "code",
   "execution_count": 7,
   "metadata": {},
   "outputs": [
    {
     "ename": "SyntaxError",
     "evalue": "invalid decimal literal (4028865895.py, line 7)",
     "output_type": "error",
     "traceback": [
      "\u001b[1;36m  Cell \u001b[1;32mIn[7], line 7\u001b[1;36m\u001b[0m\n\u001b[1;33m    1var = \"Python\"     #variable cannot start with number\u001b[0m\n\u001b[1;37m    ^\u001b[0m\n\u001b[1;31mSyntaxError\u001b[0m\u001b[1;31m:\u001b[0m invalid decimal literal\n"
     ]
    }
   ],
   "source": [
    "year_of_birth = 2000 #Snake Case-here all words are separated by _\n",
    "yearOfBirth = 2000   #Camel Case-here all words except first start with capital letter\n",
    "YearOfBirth = 2000   #Pascal Case-here all words start with capital letter\n",
    "Year_Of_Birth = 2000 #You can also write as you prefer\n",
    "\n",
    "#The following will raise an error\n",
    "1var = \"Python\"     #variable cannot start with number\n",
    "my@var = \"Python\"   #cannot contain special characters eg @\n",
    "my-var = \"Python\"   #cannot contain special characters eg -\n",
    "my var = \"Python\"   #cannot have spaces\n"
   ]
  },
  {
   "cell_type": "markdown",
   "metadata": {},
   "source": [
    "#### Variables - Assign to Multiple Variables   \n",
    "\n",
    "You can assign **one value** to **many variables**.  \n",
    "Eg `a = b = c = \"Cat\"`  \n",
    "You can also assign **many values** to **many variables**.  \n",
    "Eg `a, b, c = \"cat\", 28.0, \"hen\"`  \n",
    "> In the above case, the number of values assigned should equal number of variables.  \n",
    "> Otherwise it will raise an error.   "
   ]
  },
  {
   "cell_type": "code",
   "execution_count": null,
   "metadata": {},
   "outputs": [
    {
     "name": "stdout",
     "output_type": "stream",
     "text": [
      "cat\n",
      "28.0\n",
      "hen\n",
      "cat\n",
      "cat\n",
      "cat\n"
     ]
    }
   ],
   "source": [
    "#assign many values to many variables\n",
    "#note that the no of values = no of variables\n",
    "a, b, c = \"cat\", 28.0, \"hen\"  \n",
    "print(a)\n",
    "print(b)\n",
    "print(c)\n",
    "\n",
    "#assign one value to many variables\n",
    "#all variables A,B,C will have the value cat\n",
    "A = B = C = \"cat\"\n",
    "print(A)\n",
    "print(B)\n",
    "print(C)"
   ]
  },
  {
   "cell_type": "markdown",
   "metadata": {},
   "source": [
    "#### Output Variables  \n",
    "\n",
    "We use the **print()** function to display/output variables.    \n",
    "To output multiple variables, separate the variables by a **comma** or **+**  \n",
    "When the + is used to combine two numbers it adds them  \n",
    "Eg `print(A, B, C)` or `print(A + B + C)`  \n",
    ">[NOTE]  \n",
    "> You cannot combine a string and a number using +  \n",
    ">It is therefore advised to use commas as this supports all datatypes"
   ]
  },
  {
   "cell_type": "code",
   "execution_count": null,
   "metadata": {},
   "outputs": [
    {
     "name": "stdout",
     "output_type": "stream",
     "text": [
      "I love coding.\n",
      "I  love  coding.\n",
      "I love coding.\n",
      "20 199.4\n",
      "219.4\n",
      "3 dogs\n"
     ]
    },
    {
     "ename": "TypeError",
     "evalue": "unsupported operand type(s) for +: 'int' and 'str'",
     "output_type": "error",
     "traceback": [
      "\u001b[1;31m---------------------------------------------------------------------------\u001b[0m",
      "\u001b[1;31mTypeError\u001b[0m                                 Traceback (most recent call last)",
      "Cell \u001b[1;32mIn[10], line 21\u001b[0m\n\u001b[0;32m     19\u001b[0m Y \u001b[38;5;241m=\u001b[39m \u001b[38;5;124m\"\u001b[39m\u001b[38;5;124mdogs\u001b[39m\u001b[38;5;124m\"\u001b[39m\n\u001b[0;32m     20\u001b[0m \u001b[38;5;28mprint\u001b[39m(X, Y)      \u001b[38;5;66;03m#will display 3 dogs\u001b[39;00m\n\u001b[1;32m---> 21\u001b[0m \u001b[38;5;28mprint\u001b[39m(\u001b[43mX\u001b[49m\u001b[43m \u001b[49m\u001b[38;5;241;43m+\u001b[39;49m\u001b[43m \u001b[49m\u001b[43mY\u001b[49m)     \u001b[38;5;66;03m#will give an error\u001b[39;00m\n",
      "\u001b[1;31mTypeError\u001b[0m: unsupported operand type(s) for +: 'int' and 'str'"
     ]
    }
   ],
   "source": [
    "a = \"I love coding.\"\n",
    "print(a)\n",
    "\n",
    "#output multiple variables\n",
    "A = \"I \"\n",
    "B = \"love \"\n",
    "C = \"coding.\"\n",
    "print(A, B, C)     #separate by commas\n",
    "print(A + B + C)   #use the +\n",
    "\n",
    "#output numbers using the +\n",
    "x = 20\n",
    "y = 199.4\n",
    "print(x, y)      #will display 20 199.4\n",
    "print(x + y)     #will display the sum 219.4\n",
    "\n",
    "#combine number and string using the +\n",
    "X = 3\n",
    "Y = \"dogs\"\n",
    "print(X, Y)      #will display 3 dogs\n",
    "print(X + Y)     #will give an error"
   ]
  }
 ],
 "metadata": {
  "kernelspec": {
   "display_name": ".venv",
   "language": "python",
   "name": "python3"
  },
  "language_info": {
   "codemirror_mode": {
    "name": "ipython",
    "version": 3
   },
   "file_extension": ".py",
   "mimetype": "text/x-python",
   "name": "python",
   "nbconvert_exporter": "python",
   "pygments_lexer": "ipython3",
   "version": "3.12.3"
  }
 },
 "nbformat": 4,
 "nbformat_minor": 2
}
