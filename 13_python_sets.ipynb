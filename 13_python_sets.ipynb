{
 "cells": [
  {
   "cell_type": "markdown",
   "metadata": {},
   "source": [
    "### **Python Sets**\n",
    "\n",
    "List`[]` - Ordered, Mutable/Changeable, Allow Duplicates.  \n",
    "Tuple`()` - Ordered, Immutable/Unchangeable, Allow Duplicates.  \n",
    "Set`{}` - Unordered, Immutable/Unchangeable, Don't Allow Duplicates.  \n",
    "Dictionary`{}` - Ordered, Mutable/Changeable, Don't Allow Duplicates.  \n",
    "\n",
    "Set Items are:\n",
    "+ **Unordered**   \n",
    "Items in a set do not have a specific order that cannnot change.  \n",
    "- **Imutable/Unchangeable**  \n",
    "After a set is created, you cannot add/remove/change items.  \n",
    "+ **Don't Allow Duplicates**  \n",
    "Items in a set cannot have the same value.\n",
    "\n",
    ">NOTE   \n",
    ">`True` and `1` are considered as dupicates.   \n",
    ">`False` and `0` are also considered as duplicates.  \n",
    "\n",
    "#### Create Set \n",
    "Sets are created using `{}`  \n",
    "You can also use the `set()` function to create a set.  \n",
    "Items in a set can be of any data type.  \n",
    "\n",
    "#### Set Length/Data Type\n",
    "The `len()` function is used to get the length of a set.  \n",
    "The `type()` function returns the data type of the set.  "
   ]
  },
  {
   "cell_type": "code",
   "execution_count": 35,
   "metadata": {},
   "outputs": [
    {
     "name": "stdout",
     "output_type": "stream",
     "text": [
      "using set() function\n",
      "{True, -29.0, (75+9j), 'John', 'Jane'}\n",
      "using {}\n",
      "{False, 'cat', 'hen', (-0.9+7j), 28.5}\n",
      "Set with both True and 1\n",
      "{True, 'name', 'age'}\n",
      "5\n",
      "set1 has length of 5\n",
      "<class 'set'>\n"
     ]
    }
   ],
   "source": [
    "# Create Set\n",
    "print(\"using set() function\")\n",
    "myset = set((\"John\", -29.0, \"Jane\", 75+9j, True))\n",
    "print(myset)\n",
    "\n",
    "print(\"using {}\")\n",
    "set1 = {\"cat\", 28.5, \"hen\", False, -0.9+7j} #has different datatypes and duplicates\n",
    "print(set1)\n",
    "\n",
    "print(\"Set with both True and 1\")\n",
    "set2 = {True, \"name\", 1, \"age\"}\n",
    "print(set2)\n",
    "#note that it will only return True\n",
    "\n",
    "# Set Length\n",
    "length = len(set1)\n",
    "print(length)\n",
    "print(\"set1 has length of {}\".format(length))\n",
    "\n",
    "# Get Data Type\n",
    "datatype = type(set1)\n",
    "print(datatype)"
   ]
  },
  {
   "cell_type": "markdown",
   "metadata": {},
   "source": [
    "#### Access Set Items\n",
    "Unlike lists and tuples, you cannot access set items using index.  \n",
    "This is because set items are unordered.  \n",
    "However, you can use a `for` loop or the `in` keyword to access items.  "
   ]
  },
  {
   "cell_type": "code",
   "execution_count": 36,
   "metadata": {},
   "outputs": [
    {
     "name": "stdout",
     "output_type": "stream",
     "text": [
      "FOR LOOP\n",
      "orange\n",
      "blue\n",
      "red\n",
      "USING IN\n",
      "True\n",
      "False\n"
     ]
    }
   ],
   "source": [
    "print(\"FOR LOOP\")\n",
    "colors = {\"red\", \"blue\", \"orange\"}\n",
    "for x in colors:\n",
    "  print(x)\n",
    "\n",
    "print(\"USING IN\")\n",
    "print(\"red\" in colors)\n",
    "print(\"red\" not in colors)"
   ]
  },
  {
   "cell_type": "markdown",
   "metadata": {},
   "source": [
    "#### Add Set Items\n",
    "+ The `add()` method.  \n",
    "This adds one item to the set.  \n",
    "- The `update()` method.  \n",
    "This adds a set or any other iterable object e.g list to another set.  \n",
    "\n",
    "#### Remove Set Items  \n",
    "+ Using the `remove()` function  \n",
    "If the specified item does not exist, it raises an error.  \n",
    "- Using the `discard()` function   \n",
    "Unlike `remove()`, it does not rasie an error when the item does not exist.\n",
    "+ Using the `pop()` function   \n",
    "Removes any random item since set items are unordered.  \n",
    "    >NOTE  \n",
    "    >Sets are unordered so `pop()` will remove any random item  \n",
    "- Using the `clear()` function   \n",
    "Empties the set, the set is still present but empty.  \n",
    "+ Using the `del` keyword  \n",
    "Deletes the entire set, set will no longer exist.  \n"
   ]
  },
  {
   "cell_type": "code",
   "execution_count": 37,
   "metadata": {},
   "outputs": [
    {
     "name": "stdout",
     "output_type": "stream",
     "text": [
      "ADD SET ITEMS\n",
      "Using add()\n",
      "{'orange', 'blue', 'red', 'green'}\n",
      "Using update()\n",
      "{'crayon', 'orange', 'blue', 'red', 'green', 'pen', 'pencil'}\n",
      "REMOVE SET ITEMS\n",
      "USING remove()\n",
      "{'Spanish', 'German', 'French'}\n",
      "USING discard()\n",
      "{'Spanish', 'German'}\n",
      "USING pop()\n",
      "{'German'}\n",
      "USING clear()\n",
      "set()\n"
     ]
    }
   ],
   "source": [
    "colors = {\"red\", \"blue\", \"orange\"}\n",
    "stationery = {\"pen\", \"pencil\", \"crayon\"}\n",
    "\n",
    "print(\"ADD SET ITEMS\")\n",
    "print(\"Using add()\")\n",
    "colors.add(\"green\")\n",
    "print(colors)\n",
    "\n",
    "print(\"Using update()\")\n",
    "colors.update(stationery)\n",
    "print(colors)\n",
    "\n",
    "print(\"REMOVE SET ITEMS\")\n",
    "lang = {\"English\", \"French\", \"Spanish\", \"German\"}\n",
    "print(\"USING remove()\")\n",
    "lang.remove(\"English\")\n",
    "print(lang)\n",
    "\n",
    "print(\"USING discard()\")\n",
    "lang.discard(\"French\")\n",
    "print(lang)\n",
    "\n",
    "print(\"USING pop()\")\n",
    "lang.pop()\n",
    "print(lang)\n",
    "\n",
    "print(\"USING clear()\")\n",
    "lang.clear()\n",
    "print(lang)  #returns ampty set {}\n",
    "\n",
    "del lang\n",
    "#print(lang) will raise an error as the set no longer exists\n"
   ]
  },
  {
   "cell_type": "markdown",
   "metadata": {},
   "source": [
    "#### Loop Sets  \n",
    "\n",
    "+ For Loop  \n",
    "You can loop through set items using a for loop.  "
   ]
  },
  {
   "cell_type": "code",
   "execution_count": 38,
   "metadata": {},
   "outputs": [
    {
     "name": "stdout",
     "output_type": "stream",
     "text": [
      "FOR LOOP\n",
      "C\n",
      "B\n",
      "D\n",
      "A\n"
     ]
    }
   ],
   "source": [
    "grades = {\"A\", \"B\", \"C\", \"D\"}\n",
    "\n",
    "print(\"FOR LOOP\")\n",
    "for i in grades:\n",
    "    print(i)"
   ]
  },
  {
   "cell_type": "markdown",
   "metadata": {},
   "source": [
    "#### Join Sets\n",
    "+ The `union()` method or `|` operator.   \n",
    "This returns a new set.      \n",
    "E.g `set1.union(set2)` or `set1 | set2`  \n",
    "It can be used for many sets e.g `set1.union(set2, set3)` or `set1 | set2 | set3`  \n",
    "It can also join set with tuple/list e.g `set1.union(list1)`  \n",
    "    >NOTE  \n",
    "    >The `|` operator can only join sets with sets unlike the `union() method`.  \n",
    "\n",
    "- The `update()` method or `|=` operator.    \n",
    "This changes original set and does not return a new set.  \n",
    "E.g `set1.update(set2)`  \n",
    "    >NOTE  \n",
    "    >`union()` and `update()` will exclude duplicates.  \n",
    "\n",
    "+ The `intersection()` method or `&` operator.     \n",
    "This returns a new set that only contains elements in both sets.  \n",
    "E.g `set1.intersect(set2)` or `set1 & set2`    \n",
    "    >NOTE  \n",
    "    >The `&` operator can only join sets with sets unlike the `intersect() method`.  \n",
    "\n",
    "- The `intersection_update()` method or `&=` operator.    \n",
    "This changes the original set that contains only elements in both sets.  \n",
    "E.g `set1.intersection_update(set2)`  \n",
    "\n",
    "+ The `difference()` method or `-` operator.    \n",
    "This returns a new set that contains only the items from the first set that are not present in the other set.  \n",
    "E.g `set1.difference(set2)` or `set1 - set2`  \n",
    "    >NOTE  \n",
    "    >The `-` operator can only join sets with sets unlike the `difference() method`.  \n",
    "\n",
    "- The `difference_update()` method or `-=` operator.    \n",
    "This changes the original set that contains only the items from the first set that are not present in the other set.  \n",
    "E.g `set1.difference_update(set2)` \n",
    "\n",
    "+ The `symmetrice_difference()` method or `^` operator.    \n",
    "This returns a new set that only contains the elements that are NOT present in both sets.  \n",
    "E.g `set1.symmetric_difference(set2)` or `set1 ^ set2`  \n",
    "    >NOTE  \n",
    "    >The `^` operator can only join sets with sets unlike the `symmetric_difference()` method.  \n",
    "\n",
    "- The `symmetric_difference_update` method or `^=` operator.  \n",
    "This changes the original set that only contains elements that are NOT present in both sets.\n",
    "E.g `set1.symmetric_difference_update(set2)`  "
   ]
  },
  {
   "cell_type": "code",
   "execution_count": 39,
   "metadata": {},
   "outputs": [
    {
     "name": "stdout",
     "output_type": "stream",
     "text": [
      "set1: {'Mark', 'John', 'Alice', 'Alex'}\n",
      "set2: {'John', 'Alice', 'Kate', 'Mary'}\n",
      "union()\n",
      "{'Kate', 'Mark', 'Alice', 'Mary', 'John', 'Alex'}\n",
      "the | operator\n",
      "{'Kate', 'Mark', 'Alice', 'Mary', 'John', 'Alex'}\n",
      "intersection()\n",
      "{'Alice', 'John'}\n",
      "the & operator\n",
      "{'Alice', 'John'}\n",
      "difference\n",
      "{'Mark', 'Alex'}\n",
      "the - operator\n",
      "{'Mark', 'Alex'}\n",
      "symmetric_difference\n",
      "{'Kate', 'Mark', 'Mary', 'Alex'}\n",
      "the ^ operator\n",
      "{'Kate', 'Mark', 'Mary', 'Alex'}\n"
     ]
    }
   ],
   "source": [
    "set1 = {\"John\", \"Alex\", \"Mark\", \"Alice\"}\n",
    "set2 = {\"Alice\", \"John\", \"Mary\", \"Kate\"}\n",
    "\n",
    "print(\"set1: {}\".format(set1))\n",
    "print(\"set2: {}\".format(set2))\n",
    "\n",
    "print(\"union()\")\n",
    "a = set1.union(set2)\n",
    "print(a)\n",
    "\n",
    "print(\"the | operator\")\n",
    "b = set1 | set2\n",
    "print(b)\n",
    "\n",
    "print(\"intersection()\")\n",
    "c = set1.intersection(set2)\n",
    "print(c)\n",
    "\n",
    "print(\"the & operator\")\n",
    "d = set1 & set2\n",
    "print(d)\n",
    "\n",
    "print(\"difference\")\n",
    "e = set1.difference(set2)\n",
    "print(e)\n",
    "\n",
    "print(\"the - operator\")\n",
    "f = set1 - set2\n",
    "print(f)\n",
    "\n",
    "print(\"symmetric_difference\")\n",
    "g = set1.symmetric_difference(set2)\n",
    "print(g)\n",
    "\n",
    "print(\"the ^ operator\")\n",
    "h = set1 ^ set2\n",
    "print(h)\n"
   ]
  },
  {
   "cell_type": "markdown",
   "metadata": {},
   "source": [
    ">NOTE  \n",
    ">`update()`, `intersection_update()`, `difference_update()` and `symmetric_difference_update()`  \n",
    ">All these **DO NOT** return a new set.  \n",
    ">Instead, they change the original set.  \n",
    ">Therefore in the example below, set1 changes everytime.  "
   ]
  },
  {
   "cell_type": "code",
   "execution_count": 40,
   "metadata": {},
   "outputs": [
    {
     "name": "stdout",
     "output_type": "stream",
     "text": [
      "update()\n",
      "{'Kate', 'Mark', 'Alice', 'Mary', 'John', 'Alex'}\n",
      "intersection_update\n",
      "{'Alice', 'John', 'Kate', 'Mary'}\n",
      "difference_update\n",
      "set()\n",
      "symmetric_difference_update\n",
      "{'Alice', 'John', 'Kate', 'Mary'}\n"
     ]
    }
   ],
   "source": [
    "set1 = {\"John\", \"Alex\", \"Mark\", \"Alice\"}\n",
    "set2 = {\"Alice\", \"John\", \"Mary\", \"Kate\"}\n",
    "\n",
    "print(\"update()\")\n",
    "set1.update(set2)\n",
    "print(set1)\n",
    "\n",
    "print(\"intersection_update\")\n",
    "set1.intersection_update(set2)\n",
    "print(set1)\n",
    "\n",
    "print(\"difference_update\")\n",
    "set1.difference_update(set2)\n",
    "print(set1)\n",
    "\n",
    "print(\"symmetric_difference_update\")\n",
    "set1.symmetric_difference_update(set2)\n",
    "print(set1)"
   ]
  },
  {
   "cell_type": "markdown",
   "metadata": {},
   "source": [
    "#### `isdisjoint()`  `issubset()`or`<=`  `issuperset()`or`>=`  \n",
    "+ `isdisjoint()`  \n",
    "Returns if two sets have an intersection or not.  \n",
    "Returns `True` if there is **NO** intersection.  \n",
    "Returns `False` if there is an intersection.   \n",
    "- `issubset()`or`<=`  \n",
    "Returns if another set contains this set or not.  \n",
    "Returns `True` if all items in the first set are present in the second set.  \n",
    "Returns `False` otherwise.  \n",
    "+ `issuperset()`or`>=`  \n",
    "Returns if this set contains another set or not.  \n",
    "Returns `True` if all items in the second set are present in the first set.  \n",
    "Returns `False` otherwise.  "
   ]
  },
  {
   "cell_type": "code",
   "execution_count": 41,
   "metadata": {},
   "outputs": [
    {
     "name": "stdout",
     "output_type": "stream",
     "text": [
      "False\n",
      "False\n"
     ]
    }
   ],
   "source": [
    "set1 = {\"John\", \"Alex\", \"Mark\", \"Alice\"}\n",
    "set2 = {\"Alice\", \"John\", \"Mary\", \"Kate\"}\n",
    "\n",
    "#x = set1.disjoint(set2)\n",
    "#print(x)\n",
    "\n",
    "y = set1.issubset(set2)\n",
    "print(y)\n",
    "\n",
    "z = set1.issuperset(set2)\n",
    "print(z)"
   ]
  },
  {
   "cell_type": "markdown",
   "metadata": {},
   "source": [
    "### Set Methods\n",
    "+ `add()`This adds one item to the set.\n",
    "- `clear()`Empties the set, the set is still present but empty.\n",
    "+ `copy()`Returns a copy of the set.  \n",
    "- `difference()`or`-`This returns a new set that contains only the items from the first set that are not present in the other set. \n",
    "+ `difference_update()`or`-=`This changes the original set that contains only the items from the first set that are not present in the other set.\n",
    "- `discard()`It does not rasie an error when the item does not exist.\n",
    "+ `intersection()`or`&`This returns a new set that only contains elements in both sets.  \n",
    "- `intersection_update()`or`&=`This changes the original set that contains only elements in both sets.  \n",
    "+ `isdisjoint()`Returns if two sets have an intersection or not.  \n",
    "- `issubset()`or `<=`Returns if another set contains this set or not.  \n",
    "* `issuperset()`or`>=`Returns if this set contains another set or not.  \n",
    "+ `pop()`This removes any random item since set items are unordered.  \n",
    "- `remove()`If the specified item does not exist, it raises an error.  \n",
    "+ `symmetric_difference()`or`^`This returns a new set that only contains the elements that are NOT present in both sets.  \n",
    "- `symmetric_difference_update()`or`^=`This changes the original set that only contains elements that are NOT present in both sets.\n",
    "+ `union()`or`|`Returns a new set containing union of sets.  \n",
    "- `update()`or`|=`This adds a set or any other iterable object e.g list to another set.  \n"
   ]
  }
 ],
 "metadata": {
  "kernelspec": {
   "display_name": "Python 3",
   "language": "python",
   "name": "python3"
  },
  "language_info": {
   "codemirror_mode": {
    "name": "ipython",
    "version": 3
   },
   "file_extension": ".py",
   "mimetype": "text/x-python",
   "name": "python",
   "nbconvert_exporter": "python",
   "pygments_lexer": "ipython3",
   "version": "3.12.3"
  }
 },
 "nbformat": 4,
 "nbformat_minor": 2
}
