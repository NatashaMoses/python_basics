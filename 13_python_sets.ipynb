{
 "cells": [
  {
   "cell_type": "markdown",
   "metadata": {},
   "source": [
    "### **Python Sets**\n",
    "\n",
    "List`[]` - Ordered, Changeable, Allow Duplicates.  \n",
    "Tuple`()` - Ordered, Unchangeable, Allow Duplicates.  \n",
    "Set`{}` - Unordered, Unchangeable, Don't Allow Duplicates.  \n",
    "Dictionary`{}` - Ordered, Changeable, Don't Allow Duplicates.  \n",
    "\n",
    "Sets are:\n",
    "+ **Unordered**  \n",
    "\n",
    "- **Unchangeable**  \n",
    "\n",
    "+ **Don't Allow Duplicates**  \n",
    "\n",
    "\n",
    "#### Create Set\n",
    "Sets are created using `{}`  \n",
    "You can aslo use the `set()` function to create a set.  \n",
    "Items in a set can be of any data type.  \n",
    "\n",
    "#### Set Length/Data Type\n",
    "The `len()` function is used to get the length of a set.  \n",
    "The `type()` function returns the data type of the set.  "
   ]
  }
 ],
 "metadata": {
  "language_info": {
   "name": "python"
  }
 },
 "nbformat": 4,
 "nbformat_minor": 2
}
