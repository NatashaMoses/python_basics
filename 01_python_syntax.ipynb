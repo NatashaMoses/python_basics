{
 "cells": [
  {
   "cell_type": "markdown",
   "metadata": {},
   "source": [
    "### **Python Comments**\n",
    "\n",
    "Comments give a brief explanation of what the code does.  \n",
    "They are not executed when the code runs.  \n",
    "Comments begin with a #  \n",
    "For Multiline comments, you can use **#** for each line or ***\"\"\"***"
   ]
  },
  {
   "cell_type": "code",
   "execution_count": 1,
   "metadata": {},
   "outputs": [
    {
     "name": "stdout",
     "output_type": "stream",
     "text": [
      "Python is Fun!\n",
      "I love coding\n"
     ]
    },
    {
     "data": {
      "text/plain": [
       "'\\nthis is another way\\nof writing multiline\\ncomments\\n'"
      ]
     },
     "execution_count": 1,
     "metadata": {},
     "output_type": "execute_result"
    }
   ],
   "source": [
    "#This is a comment\n",
    "print(\"Python is Fun!\")\n",
    "print(\"I love coding\") #comment at the end\n",
    "\n",
    "#comments can also be in multiple lines\n",
    "#comment1\n",
    "#comment2\n",
    "\n",
    "\"\"\"\n",
    "this is another way\n",
    "of writing multiline\n",
    "comments\n",
    "\"\"\""
   ]
  }
 ],
 "metadata": {
  "kernelspec": {
   "display_name": ".venv",
   "language": "python",
   "name": "python3"
  },
  "language_info": {
   "codemirror_mode": {
    "name": "ipython",
    "version": 3
   },
   "file_extension": ".py",
   "mimetype": "text/x-python",
   "name": "python",
   "nbconvert_exporter": "python",
   "pygments_lexer": "ipython3",
   "version": "3.12.3"
  }
 },
 "nbformat": 4,
 "nbformat_minor": 2
}
