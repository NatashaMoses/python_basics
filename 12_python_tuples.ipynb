{
 "cells": [
  {
   "cell_type": "markdown",
   "metadata": {},
   "source": [
    "### **Python Tuples**\n",
    "\n",
    "List`[]` - Ordered, Changeable, Allow Duplicates.  \n",
    "Tuple`()` - Ordered, Unchangeable, Allow Duplicates.  \n",
    "Set`{}` - Unordered, Unchangeable, Don't Allow Duplicates.  \n",
    "Dictionary`{}` - Ordered, Changeable, Don't Allow Duplicates.  \n",
    "\n",
    "Tuples are:\n",
    "+ **Ordered**  \n",
    "\n",
    "- **Unchangeable**  \n",
    "\n",
    "+ **Allow Duplicates**  \n",
    "\n",
    "\n",
    "#### Create Tuple\n",
    "Tuples are created using `()`  \n",
    "You can aslo use the `tuple()` function to create a tuple.  \n",
    "Items in a tuple can be of any data type.  \n",
    "\n",
    "#### Tuple Length/Data Type\n",
    "The `len()` function is used to get the length of a tuple.  \n",
    "The `type()` function returns the data type of the tuple.  "
   ]
  },
  {
   "cell_type": "markdown",
   "metadata": {},
   "source": [
    "#### Access Tuple Items \n",
    "Items in a tuple are ordered starting from 0.  \n",
    "I.e the **first** item in the tuple is index `0`.  \n",
    "The **second** item in the tuple is index `1`.  \n",
    "\n",
    "You can also acccess tuple items from the last item.  \n",
    "This is known as **negative indexing**.  \n",
    "The **last** item in the tuple is index `-1`.  \n",
    "The **second last** item is index `-2` etc. \n",
    "  \n",
    "To access more than one item, you separate the indexes by a colon.  \n",
    "E.g `tuple1[1:3]`  \n",
    "Note that the item in the last index is excluded.  \n",
    "I.e `tuple1[1:3]` will access item in index 1 and 2 only, 3 is excluded.   \n",
    "The same happens in the case of `tuple1[-4:-2]`  \n",
    "This will access item in index -4 and -3 only, -2 is excluded.  \n",
    "  \n",
    "If the starting index is not specified, it will access from index 0.  \n",
    "E.g `tuple1[:3]` will access item in index 0, 1 and 2.  \n",
    "If the ending index is not specified, it will access up to the last item.  \n",
    "E.g `tuple1[3:]` will access item in index 3 to the last index.  "
   ]
  },
  {
   "cell_type": "code",
   "execution_count": 1,
   "metadata": {},
   "outputs": [
    {
     "name": "stdout",
     "output_type": "stream",
     "text": [
      "ACCESS TUPLE ITEMS\n",
      "silver\n",
      "Item in index 0 is silver\n",
      "diamond\n",
      "Item in index 1 is diamond\n",
      "emerald\n",
      "Item in index -1 is emerald\n",
      "('diamond', 'gold')\n",
      "Items in index 1 and 2 are ('diamond', 'gold')\n",
      "('gold', 'ruby')\n",
      "Items in index -3 and -2 are ('gold', 'ruby')\n",
      "('silver', 'diamond', 'gold', 'ruby')\n",
      "Items from index 0 to index 3 are ('silver', 'diamond', 'gold', 'ruby')\n",
      "('diamond', 'gold', 'ruby', 'emerald')\n",
      "Items from index 1 to last index are ('diamond', 'gold', 'ruby', 'emerald')\n"
     ]
    }
   ],
   "source": [
    "my_tuple = (\"silver\", \"diamond\", \"gold\", \"ruby\", \"emerald\")\n",
    "\n",
    "print(\"ACCESS TUPLE ITEMS\")\n",
    "print(my_tuple[0])\n",
    "print(\"Item in index 0 is {}\".format(my_tuple[0]))\n",
    "print(my_tuple[1])\n",
    "print(\"Item in index 1 is {}\".format(my_tuple[1]))\n",
    "\n",
    "print(my_tuple[-1])\n",
    "print(\"Item in index -1 is {}\".format(my_tuple[-1]))\n",
    "\n",
    "print(my_tuple[1:3])\n",
    "print(\"Items in index 1 and 2 are {}\".format(my_tuple[1:3]))\n",
    "print(my_tuple[-3:-1])\n",
    "print(\"Items in index -3 and -2 are {}\".format(my_tuple[-3:-1]))\n",
    "\n",
    "print(my_tuple[:4])\n",
    "print(\"Items from index 0 to index 3 are {}\".format(my_tuple[:4]))\n",
    "print(my_tuple[1:])\n",
    "print(\"Items from index 1 to last index are {}\".format(my_tuple[1:]))"
   ]
  }
 ],
 "metadata": {
  "kernelspec": {
   "display_name": "Python 3",
   "language": "python",
   "name": "python3"
  },
  "language_info": {
   "codemirror_mode": {
    "name": "ipython",
    "version": 3
   },
   "file_extension": ".py",
   "mimetype": "text/x-python",
   "name": "python",
   "nbconvert_exporter": "python",
   "pygments_lexer": "ipython3",
   "version": "3.12.3"
  }
 },
 "nbformat": 4,
 "nbformat_minor": 2
}
