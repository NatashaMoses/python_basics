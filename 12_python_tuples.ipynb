{
 "cells": [
  {
   "cell_type": "markdown",
   "metadata": {},
   "source": [
    "### **Python Tuples**\n",
    "\n",
    "List`[]` - Ordered, Mutable/Changeable, Allow Duplicates.  \n",
    "Tuple`()` - Ordered, Immutable/Unchangeable, Allow Duplicates.  \n",
    "Set`{}` - Unordered, Immutable/Unchangeable, Don't Allow Duplicates.  \n",
    "Dictionary`{}` - Ordered, Mutable/Changeable, Don't Allow Duplicates.  \n",
    "\n",
    "Tuple Items are:\n",
    "+ **Ordered**   \n",
    "Items in a tuple have a specific order that cannnot change.  \n",
    "- **Immutable/Unchangeable**  \n",
    "After a tuple is created, you cannot add/remove/change items.  \n",
    "+ **Allow Duplicates**  \n",
    "Items in a tuple can have the same value.  \n",
    "\n",
    "#### Create Tuple\n",
    "Tuples are created using `()`  \n",
    "You can also use the `tuple()` function to create a tuple.  \n",
    "Items in a tuple can be of any data type.  \n",
    "\n",
    ">NOTE  \n",
    ">To create a tuple with one item, a comma needs to be added at the end.  \n",
    ">E.g `my_tuple = (\"dog\",)`  \n",
    ">Otherwise `my_tuple = (\"dog\")` will raise an error.  \n",
    "\n",
    "#### Tuple Length/Data Type\n",
    "The `len()` function is used to get the length of a tuple.  \n",
    "The `type()` function returns the data type of the tuple.  "
   ]
  },
  {
   "cell_type": "code",
   "execution_count": 16,
   "metadata": {},
   "outputs": [
    {
     "name": "stdout",
     "output_type": "stream",
     "text": [
      "using tuple() function\n",
      "('John', -29.0, 'Jane', (75+9j), True)\n",
      "using ()\n",
      "['cat', 28.5, 'hen', False, 28.5]\n",
      "5\n",
      "tuple1 has length of 5\n",
      "<class 'list'>\n"
     ]
    }
   ],
   "source": [
    "#Create tuple\n",
    "print(\"using tuple() function\")\n",
    "mytuple = tuple((\"John\", -29.0, \"Jane\", 75+9j, True))\n",
    "print(mytuple)\n",
    "\n",
    "print(\"using ()\")\n",
    "tuple1 = [\"cat\", 28.5, \"hen\", False, 28.5] #has different datatypes and duplicates\n",
    "print(tuple1)\n",
    "\n",
    "# Tuple Length\n",
    "length = len(tuple1)\n",
    "print(length)\n",
    "print(\"tuple1 has length of {}\".format(length))\n",
    "\n",
    "# Get Data Type\n",
    "datatype = type(tuple1)\n",
    "print(datatype)"
   ]
  },
  {
   "cell_type": "markdown",
   "metadata": {},
   "source": [
    "#### Access Tuple Items \n",
    "Items in a tuple are ordered starting from 0.  \n",
    "I.e the **first** item in the tuple is index `0`.  \n",
    "The **second** item in the tuple is index `1`.  \n",
    "\n",
    "You can also acccess tuple items from the last item.  \n",
    "This is known as **negative indexing**.  \n",
    "The **last** item in the tuple is index `-1`.  \n",
    "The **second last** item is index `-2` etc. \n",
    "  \n",
    "To access more than one item, you separate the indexes by a colon.  \n",
    "E.g `tuple1[1:3]`  \n",
    "Note that the item in the last index is excluded.  \n",
    "I.e `tuple1[1:3]` will access item in index 1 and 2 only, 3 is excluded.   \n",
    "The same happens in the case of `tuple1[-4:-2]`  \n",
    "This will access item in index -4 and -3 only, -2 is excluded.  \n",
    "  \n",
    "If the starting index is not specified, it will access from index 0.  \n",
    "E.g `tuple1[:3]` will access item in index 0, 1 and 2.  \n",
    "If the ending index is not specified, it will access up to the last item.  \n",
    "E.g `tuple1[3:]` will access item in index 3 to the last index.  "
   ]
  },
  {
   "cell_type": "code",
   "execution_count": 17,
   "metadata": {},
   "outputs": [
    {
     "name": "stdout",
     "output_type": "stream",
     "text": [
      "ACCESS TUPLE ITEMS\n",
      "silver\n",
      "Item in index 0 is silver\n",
      "diamond\n",
      "Item in index 1 is diamond\n",
      "emerald\n",
      "Item in index -1 is emerald\n",
      "('diamond', 'gold')\n",
      "Items in index 1 and 2 are ('diamond', 'gold')\n",
      "('gold', 'ruby')\n",
      "Items in index -3 and -2 are ('gold', 'ruby')\n",
      "('silver', 'diamond', 'gold', 'ruby')\n",
      "Items from index 0 to index 3 are ('silver', 'diamond', 'gold', 'ruby')\n",
      "('diamond', 'gold', 'ruby', 'emerald')\n",
      "Items from index 1 to last index are ('diamond', 'gold', 'ruby', 'emerald')\n"
     ]
    }
   ],
   "source": [
    "my_tuple = (\"silver\", \"diamond\", \"gold\", \"ruby\", \"emerald\")\n",
    "\n",
    "print(\"ACCESS TUPLE ITEMS\")\n",
    "print(my_tuple[0])\n",
    "print(\"Item in index 0 is {}\".format(my_tuple[0]))\n",
    "print(my_tuple[1])\n",
    "print(\"Item in index 1 is {}\".format(my_tuple[1]))\n",
    "\n",
    "print(my_tuple[-1])\n",
    "print(\"Item in index -1 is {}\".format(my_tuple[-1]))\n",
    "\n",
    "print(my_tuple[1:3])\n",
    "print(\"Items in index 1 and 2 are {}\".format(my_tuple[1:3]))\n",
    "print(my_tuple[-3:-1])\n",
    "print(\"Items in index -3 and -2 are {}\".format(my_tuple[-3:-1]))\n",
    "\n",
    "print(my_tuple[:4])\n",
    "print(\"Items from index 0 to index 3 are {}\".format(my_tuple[:4]))\n",
    "print(my_tuple[1:])\n",
    "print(\"Items from index 1 to last index are {}\".format(my_tuple[1:]))"
   ]
  },
  {
   "cell_type": "markdown",
   "metadata": {},
   "source": [
    "#### Update Tuples\n",
    "Tuples are unchangeable meaning you cannot add or remove items in a tuple.  \n",
    "However there are ways you can manipulate the tuple:  \n",
    "+ Convert the Tuple to a List  \n",
    "List items are changeable.  \n",
    "You can convert a tuple to a list, make changes like add or remove items.  \n",
    "Then convert the list back to a tuple.   \n",
    "- Add Tuple to another Tuple  \n",
    "This is done using the `+=` operator.  \n",
    "+ Use del keyword  \n",
    "This deletes the entire tuple.  "
   ]
  },
  {
   "cell_type": "code",
   "execution_count": 18,
   "metadata": {},
   "outputs": [
    {
     "name": "stdout",
     "output_type": "stream",
     "text": [
      "CONVERT TUPLE TO LIST\n",
      "Converted tuple ('name', 'age', 'height', 'weight') to list ['name', 'age', 'height', 'weight']\n",
      "CHANGE ITEMS\n",
      "List after changing items: ['name', 'age', 'gender', 'weight']\n",
      "ADD ITEMS\n",
      "List after adding items: ['name', 'age', 'gender', 'weight', 'd.o.b']\n",
      "REMOVE ITEMS\n",
      "List after removing items: ['name', 'age', 'gender', 'd.o.b']\n",
      "CONVERT LIST BACK TO TUPLE\n",
      "New tuple is: ('name', 'age', 'gender', 'd.o.b')\n",
      "ADD TUPLE TO ANOTHER TUPLE USING +=\n",
      "Adding tuple1  to tuple2: ('a', 'b', 'c', 'd')\n"
     ]
    }
   ],
   "source": [
    "print(\"CONVERT TUPLE TO LIST\")\n",
    "my_tuple = (\"name\", \"age\", \"height\", \"weight\")\n",
    "my_list = list(my_tuple)\n",
    "print(\"Converted tuple {} to list {}\".format(my_tuple, my_list))\n",
    "\n",
    "#Now we can add/change/remove items in the list\n",
    "print(\"CHANGE ITEMS\")\n",
    "my_list[2] = \"gender\"\n",
    "print(\"List after changing items: {}\".format(my_list))\n",
    "\n",
    "print(\"ADD ITEMS\")\n",
    "my_list.append(\"d.o.b\")\n",
    "print(\"List after adding items: {}\".format(my_list))\n",
    "\n",
    "print(\"REMOVE ITEMS\")\n",
    "my_list.remove(\"weight\")\n",
    "print(\"List after removing items: {}\".format(my_list))\n",
    "\n",
    "print(\"CONVERT LIST BACK TO TUPLE\")\n",
    "new_tuple = tuple(my_list)\n",
    "print(\"New tuple is: {}\".format(new_tuple))\n",
    "\n",
    "print(\"ADD TUPLE TO ANOTHER TUPLE USING +=\")\n",
    "tuple1 = (\"a\", \"b\", \"c\")\n",
    "tuple2 = (\"d\",) #remember a tuple with one item should have a comma\n",
    "tuple1 += tuple2\n",
    "print(\"Adding tuple1  to tuple2: {}\".format(tuple1))\n",
    "\n",
    "del tuple2\n",
    "#print(tuple2) will raise an error as tuple2 no longer exists\n"
   ]
  },
  {
   "cell_type": "markdown",
   "metadata": {},
   "source": [
    "#### Unpack Tuples\n",
    "**Packing** is the process of assigning values to a set/list/tuple etc.   \n",
    "E.g `continent = (\"Africa\", \"Asia\", \"Australia\", \"Europe\", \"North America\", \"South America\")`  \n",
    "**Unpacking** is the process of extracting those values back to variables   \n",
    "E.g `(a, b, c, d, e, f) = continent`.  \n",
    "Here the number of variables = the number of values in the tuple.  \n",
    ">NOTE  \n",
    ">If the number of variables != the number of values in the tuple;  \n",
    ">An asterisk `*` is used.  \n",
    ">In this case, the remaining items are added as a **LIST**.  \n"
   ]
  },
  {
   "cell_type": "code",
   "execution_count": 19,
   "metadata": {},
   "outputs": [
    {
     "name": "stdout",
     "output_type": "stream",
     "text": [
      "No of variables = No of values in tuple\n",
      "Africa\n",
      "Asia\n",
      "Australia\n",
      "Europe\n",
      "North America\n",
      "South America\n",
      "No of variables is less than no of values in the tuple\n",
      "Africa\n",
      "Asia\n",
      "['Australia', 'Europe', 'North America', 'South America']\n",
      "Africa\n",
      "['Asia', 'Australia', 'Europe', 'North America']\n",
      "South America\n"
     ]
    }
   ],
   "source": [
    "#Here the no of variables = no of values in the tuple\n",
    "print(\"No of variables = No of values in tuple\")\n",
    "continent = (\"Africa\", \"Asia\", \"Australia\", \"Europe\", \"North America\", \"South America\")\n",
    "(a, b, c, d, e, f) = continent\n",
    "print(a)\n",
    "print(b)\n",
    "print(c)\n",
    "print(d)\n",
    "print(e)\n",
    "print(f)\n",
    "\n",
    "#However if no of variables is less than no of values in the tuple, we use *\n",
    "print(\"No of variables is less than no of values in the tuple\")\n",
    "continent = (\"Africa\", \"Asia\", \"Australia\", \"Europe\", \"North America\", \"South America\")\n",
    "(c, d, *e) = continent\n",
    "print(c)\n",
    "print(d)\n",
    "print(e)\n",
    "\n",
    "#Here is another example\n",
    "continent = (\"Africa\", \"Asia\", \"Australia\", \"Europe\", \"North America\", \"South America\")\n",
    "(f, *g, h) = continent\n",
    "print(f)\n",
    "print(g)\n",
    "print(h)\n"
   ]
  },
  {
   "cell_type": "markdown",
   "metadata": {},
   "source": [
    "#### Loop Tuples  \n",
    "\n",
    "+ For Loop  \n",
    "- While Loop     "
   ]
  },
  {
   "cell_type": "code",
   "execution_count": 20,
   "metadata": {},
   "outputs": [
    {
     "name": "stdout",
     "output_type": "stream",
     "text": [
      "FOR LOOP\n",
      "A\n",
      "B\n",
      "C\n",
      "D\n",
      "WHILE LOOP\n",
      "A\n",
      "B\n",
      "C\n",
      "D\n"
     ]
    }
   ],
   "source": [
    "grades = (\"A\", \"B\", \"C\", \"D\")\n",
    "\n",
    "print(\"FOR LOOP\")\n",
    "for i in range(len(grades)):\n",
    "    print(grades[i])\n",
    "\n",
    "print(\"WHILE LOOP\")\n",
    "i = 0\n",
    "while i < len(grades):\n",
    "    print(grades[i])\n",
    "    i = i + 1\n"
   ]
  },
  {
   "cell_type": "markdown",
   "metadata": {},
   "source": [
    "#### Join Tuples\n",
    "+ Using the `+` operator  \n",
    "E.g `tuple_3 = tuple_1 + tuple_2`.  \n",
    "- Using the `*` operator  \n",
    "E.g `my_tuple = tuple_1 * 3`.  \n",
    "This multiplies the tuple thrice.  "
   ]
  },
  {
   "cell_type": "code",
   "execution_count": 21,
   "metadata": {},
   "outputs": [
    {
     "name": "stdout",
     "output_type": "stream",
     "text": [
      "USING THE + OPERATOR\n",
      "('eggs', 'milk', 'cheese', 'cake', 'braed')\n",
      "USING THE * OPERATOR\n",
      "('eggs', 'milk', 'cheese', 'eggs', 'milk', 'cheese', 'eggs', 'milk', 'cheese', 'eggs', 'milk', 'cheese')\n"
     ]
    }
   ],
   "source": [
    "print(\"USING THE + OPERATOR\")\n",
    "tuple_1 = (\"eggs\",\"milk\", \"cheese\")\n",
    "tuple_2 = (\"cake\", \"braed\")\n",
    "tuple_3 = tuple_1 + tuple_2\n",
    "print(tuple_3)\n",
    "\n",
    "print(\"USING THE * OPERATOR\")\n",
    "my_tuple = tuple_1 * 4\n",
    "print(my_tuple)"
   ]
  },
  {
   "cell_type": "markdown",
   "metadata": {},
   "source": [
    "#### `count()` and `index()` method.  \n",
    "+ The `count()` method  \n",
    "This returns the number of items with a specific value.  \n",
    "- The `index()` method  \n",
    "This returns the index of a specific item.  "
   ]
  },
  {
   "cell_type": "code",
   "execution_count": 22,
   "metadata": {},
   "outputs": [
    {
     "name": "stdout",
     "output_type": "stream",
     "text": [
      "Count of 'spoon' is: 3\n",
      "Index of 'fork' is: 2\n"
     ]
    }
   ],
   "source": [
    "cutlery = (\"cup\", \"spoon\", \"fork\", \"spoon\", \"cup\", \"spoon\")\n",
    "a= cutlery.count(\"spoon\")\n",
    "print(\"Count of 'spoon' is: {}\".format(a))\n",
    "\n",
    "b = cutlery.index(\"fork\")\n",
    "print(\"Index of 'fork' is: {}\".format(b))"
   ]
  },
  {
   "cell_type": "markdown",
   "metadata": {},
   "source": [
    "#### Tuple Methods\n",
    "+ `count()`Returns number of items with a specific value  \n",
    "- `index()`Returns the index of a speciifc item"
   ]
  }
 ],
 "metadata": {
  "kernelspec": {
   "display_name": "Python 3",
   "language": "python",
   "name": "python3"
  },
  "language_info": {
   "codemirror_mode": {
    "name": "ipython",
    "version": 3
   },
   "file_extension": ".py",
   "mimetype": "text/x-python",
   "name": "python",
   "nbconvert_exporter": "python",
   "pygments_lexer": "ipython3",
   "version": "3.12.3"
  }
 },
 "nbformat": 4,
 "nbformat_minor": 2
}
