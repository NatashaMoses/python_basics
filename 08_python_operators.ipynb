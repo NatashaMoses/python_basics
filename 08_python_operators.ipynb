{
 "cells": [
  {
   "cell_type": "markdown",
   "metadata": {},
   "source": [
    "### **Python Operators**\n",
    "\n",
    "Operators are used to perform operations on values and variables.  \n",
    "The following are types of operators in Python:  \n",
    "1. Arithmetic Operators  Operators\n",
    "2. Assignment Operators  \n",
    "3. Comparison Operators  \n",
    "4. Logical Operators  \n",
    "5. Identity Operators  \n",
    "6. Membership Operators  \n",
    "7. Bitwise Operators  "
   ]
  },
  {
   "cell_type": "markdown",
   "metadata": {},
   "source": [
    "### **Arithmetic Operators**\n",
    "\n",
    "These are operators that are used with numeric values.  \n",
    "They perform basic mathematic operations `Eg + for addition`  \n",
    "For multiplication, `*` is used compared to the commonly used `x`    \n",
    "They can act on two or more operands.  \n"
   ]
  },
  {
   "cell_type": "markdown",
   "metadata": {},
   "source": [
    "<th>\n",
    "<td>Operator</td><td>Name</td><td>Example</td>\n",
    "</th>\n",
    "<tr>\n",
    "<td>+</td><td>Addition</td><td>a + b = 15</td>\n",
    "</tr>"
   ]
  },
  {
   "cell_type": "code",
   "execution_count": 14,
   "metadata": {},
   "outputs": [
    {
     "ename": "SyntaxError",
     "evalue": "invalid syntax. Perhaps you forgot a comma? (3972320231.py, line 9)",
     "output_type": "error",
     "traceback": [
      "\u001b[1;36m  Cell \u001b[1;32mIn[14], line 9\u001b[1;36m\u001b[0m\n\u001b[1;33m    print(\"b =\" ,b , \"c =,\" c, \"addition =\" ,b+c)  #int plus float\u001b[0m\n\u001b[1;37m                     ^\u001b[0m\n\u001b[1;31mSyntaxError\u001b[0m\u001b[1;31m:\u001b[0m invalid syntax. Perhaps you forgot a comma?\n"
     ]
    }
   ],
   "source": [
    "a = 10\n",
    "b = 15\n",
    "c = 20.5\n",
    "d = 10+5j\n",
    "e = 23+2.9j\n",
    "\n",
    "# Addition\n",
    "#print(\"a =\" {} \"b =,\" {} \"addition =\" {}, a,b,a+b)  #int plus int\n",
    "print(\"b =\" ,b , \"c =,\" c, \"addition =\" ,b+c)  #int plus float\n",
    "print(\"a =\",a,\"d =,\"d,\"addition =\",a+d)  #int plus complex\n",
    "print(\"c =\",c,\"d =,\"d,\"addition =\",c+d)  #float plus complex\n",
    "print(\"d =\",d,\"e =,\"e,\"addition =\",d+e)  #complex plus complex"
   ]
  }
 ],
 "metadata": {
  "kernelspec": {
   "display_name": ".venv",
   "language": "python",
   "name": "python3"
  },
  "language_info": {
   "codemirror_mode": {
    "name": "ipython",
    "version": 3
   },
   "file_extension": ".py",
   "mimetype": "text/x-python",
   "name": "python",
   "nbconvert_exporter": "python",
   "pygments_lexer": "ipython3",
   "version": "3.12.3"
  }
 },
 "nbformat": 4,
 "nbformat_minor": 2
}
