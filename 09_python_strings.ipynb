{
 "cells": [
  {
   "cell_type": "markdown",
   "metadata": {},
   "source": [
    "### Pyhton Strings\n",
    "\n",
    "Strings are used to represent textual data.  \n",
    "They are a sequence of characters enclosed in double quotes`\"\"` or single quotes`''`.   \n",
    "A string is one of the datatypes, you can therefore assign it to a variable e.g `a = \"Hello\"`  \n",
    "To assign a multiline string to a variable, we use three quotes(single or double).     \n",
    "```python\n",
    "a = \"\"\"Lorem ipsum dolor sit amet,\n",
    "consectetur adipiscing elit,\n",
    "sed do eiusmod tempor incididunt\n",
    "ut labore et dolore magna aliqua.\"\"\"\n",
    "```\n",
    "The `print()` function displays a string literal.    \n",
    "The `len()` function displays the length of a string.   \n",
    "The `type()` function displays the datatype, in this case `<class 'str'>`"
   ]
  },
  {
   "cell_type": "code",
   "execution_count": 4,
   "metadata": {},
   "outputs": [
    {
     "name": "stdout",
     "output_type": "stream",
     "text": [
      "Use print() to display\n",
      "Hello, World!\n",
      "Hello, World!\n",
      "MULTILINE STRING\n",
      "Lorem ipsum dolor sit amet,\n",
      "consectetur adipiscing elit,\n",
      "sed do eiusmod tempor incididunt\n",
      "ut labore et dolore magna aliqua.\n",
      "GET LENGTH OF A STRING\n",
      "Length of a is: 13\n",
      "Length of c is: 123\n",
      "GET DATATYPE: <class 'str'>\n"
     ]
    }
   ],
   "source": [
    "a = \"Hello, World!\" #double quotes\n",
    "b = 'Hello, World!' #single quotes\n",
    "\n",
    "print(\"Use print() to display\")\n",
    "print(a)\n",
    "print(b)\n",
    "\n",
    "print(\"MULTILINE STRING\")\n",
    "c = \"\"\"Lorem ipsum dolor sit amet,\n",
    "consectetur adipiscing elit,\n",
    "sed do eiusmod tempor incididunt\n",
    "ut labore et dolore magna aliqua.\"\"\"\n",
    "print(c)\n",
    "\n",
    "print(\"GET LENGTH OF A STRING\")\n",
    "print(\"Length of a is: {}\".format(len(a)))\n",
    "print(\"Length of c is: {}\".format(len(c)))\n",
    "\n",
    "print(\"GET DATATYPE: {}\".format(type(a)))"
   ]
  },
  {
   "cell_type": "markdown",
   "metadata": {},
   "source": [
    "#### Slicing Strings\n",
    "Characters in a string are ordered starting from 0.  \n",
    "I.e the **first** character in the string is index `0`.  \n",
    "The **second** character in the string is index `1`.  \n",
    "\n",
    "You can also slice string characters from the last character.  \n",
    "This is known as **negative indexing**.  \n",
    "The **last** character in the string is index `-1`.  \n",
    "The **second last** character is index `-2` etc. \n",
    "  \n",
    "To slice more than one character, you separate the indexes by a colon.  \n",
    "E.g `string1[1:3]`  \n",
    "Note that the character in the last index is excluded.  \n",
    "I.e `string1[1:3]` will slice character in index 1 and 2 only, 3 is excluded.   \n",
    "The same happens in the case of `string1[-4:-2]`  \n",
    "This will slice character in index -4 and -3 only, -2 is excluded.  \n",
    "  \n",
    "If the starting index is not specified, it will slice from index 0.  \n",
    "E.g `string1[:3]` will slice character in index 0, 1 and 2.  \n",
    "If the ending index is not specified, it will slice up to the last character.  \n",
    "E.g `string1[3:]` will slice character in index 3 to the last index.  "
   ]
  },
  {
   "cell_type": "code",
   "execution_count": 6,
   "metadata": {},
   "outputs": [
    {
     "name": "stdout",
     "output_type": "stream",
     "text": [
      "SLICING STRINGS\n",
      "H\n",
      "Character in index 0 is H\n",
      "e\n",
      "Character in index 1 is e\n",
      "!\n",
      "Character in index -1 is !\n",
      "el\n",
      "Characters in index 1 and 2 are el\n",
      "on\n",
      "Characters in index -3 and -2 are on\n",
      "Hell\n",
      "Characters from index 0 to index 3 are Hell\n",
      "ello, I am learning Python!\n",
      "Characters from index 1 to last index are ello, I am learning Python!\n"
     ]
    }
   ],
   "source": [
    "msg = (\"Hello, I am learning Python!\")\n",
    "\n",
    "print(\"SLICING STRINGS\")\n",
    "print(msg[0])\n",
    "print(\"Character in index 0 is {}\".format(msg[0]))\n",
    "print(msg[1])\n",
    "print(\"Character in index 1 is {}\".format(msg[1]))\n",
    "\n",
    "print(msg[-1])\n",
    "print(\"Character in index -1 is {}\".format(msg[-1]))\n",
    "\n",
    "print(msg[1:3])\n",
    "print(\"Characters in index 1 and 2 are {}\".format(msg[1:3]))\n",
    "print(msg[-3:-1])\n",
    "print(\"Characters in index -3 and -2 are {}\".format(msg[-3:-1]))\n",
    "\n",
    "print(msg[:4])\n",
    "print(\"Characters from index 0 to index 3 are {}\".format(msg[:4]))\n",
    "print(msg[1:])\n",
    "print(\"Characters from index 1 to last index are {}\".format(msg[1:]))"
   ]
  }
 ],
 "metadata": {
  "kernelspec": {
   "display_name": "Python 3",
   "language": "python",
   "name": "python3"
  },
  "language_info": {
   "codemirror_mode": {
    "name": "ipython",
    "version": 3
   },
   "file_extension": ".py",
   "mimetype": "text/x-python",
   "name": "python",
   "nbconvert_exporter": "python",
   "pygments_lexer": "ipython3",
   "version": "3.12.3"
  }
 },
 "nbformat": 4,
 "nbformat_minor": 2
}
