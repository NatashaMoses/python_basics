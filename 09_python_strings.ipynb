{
 "cells": [
  {
   "cell_type": "markdown",
   "metadata": {},
   "source": [
    "### Python Strings\n",
    "\n",
    "Strings are used to represent textual data.  \n",
    "They are a sequence of characters enclosed in double quotes`\"\"` or single quotes`''`.   \n",
    "A string is one of the datatypes, you can therefore assign it to a variable e.g `a = \"Hello\"`  \n",
    "To assign a multiline string to a variable, we use three quotes(single or double).     \n",
    "```python\n",
    "a = \"\"\"Lorem ipsum dolor sit amet,\n",
    "consectetur adipiscing elit,\n",
    "sed do eiusmod tempor incididunt\n",
    "ut labore et dolore magna aliqua.\"\"\"\n",
    "```\n",
    "The `print()` function displays a string literal.    \n",
    "The `len()` function displays the length of a string.   \n",
    "The `type()` function displays the datatype, in this case `<class 'str'>`"
   ]
  },
  {
   "cell_type": "code",
   "execution_count": 15,
   "metadata": {},
   "outputs": [
    {
     "name": "stdout",
     "output_type": "stream",
     "text": [
      "Use print() to display\n",
      "Hello, World!\n",
      "Hello, World!\n",
      "MULTILINE STRING\n",
      "Lorem ipsum dolor sit amet,\n",
      "consectetur adipiscing elit,\n",
      "sed do eiusmod tempor incididunt\n",
      "ut labore et dolore magna aliqua.\n",
      "GET LENGTH OF A STRING\n",
      "Length of a is: 13\n",
      "Length of c is: 123\n",
      "GET DATATYPE: <class 'str'>\n"
     ]
    }
   ],
   "source": [
    "a = \"Hello, World!\" #double quotes\n",
    "b = 'Hello, World!' #single quotes\n",
    "\n",
    "print(\"Use print() to display\")\n",
    "print(a)\n",
    "print(b)\n",
    "\n",
    "print(\"MULTILINE STRING\")\n",
    "c = \"\"\"Lorem ipsum dolor sit amet,\n",
    "consectetur adipiscing elit,\n",
    "sed do eiusmod tempor incididunt\n",
    "ut labore et dolore magna aliqua.\"\"\"\n",
    "print(c)\n",
    "\n",
    "print(\"GET LENGTH OF A STRING\")\n",
    "print(\"Length of a is: {}\".format(len(a)))\n",
    "print(\"Length of c is: {}\".format(len(c)))\n",
    "\n",
    "print(\"GET DATATYPE: {}\".format(type(a)))"
   ]
  },
  {
   "cell_type": "markdown",
   "metadata": {},
   "source": [
    "#### Slicing Strings\n",
    "Characters in a string are ordered starting from 0.  \n",
    "I.e the **first** character in the string is index `0`.  \n",
    "The **second** character in the string is index `1`.  \n",
    "\n",
    "You can also slice string characters from the last character.  \n",
    "This is known as **negative indexing**.  \n",
    "The **last** character in the string is index `-1`.  \n",
    "The **second last** character is index `-2` etc. \n",
    "  \n",
    "To slice more than one character, you separate the indexes by a colon.  \n",
    "E.g `string1[1:3]`  \n",
    "Note that the character in the last index is excluded.  \n",
    "I.e `string1[1:3]` will slice character in index 1 and 2 only, 3 is excluded.   \n",
    "The same happens in the case of `string1[-4:-2]`  \n",
    "This will slice character in index -4 and -3 only, -2 is excluded.  \n",
    "  \n",
    "If the starting index is not specified, it will slice from index 0.  \n",
    "E.g `string1[:3]` will slice character in index 0, 1 and 2.  \n",
    "If the ending index is not specified, it will slice up to the last character.  \n",
    "E.g `string1[3:]` will slice character in index 3 to the last index.  "
   ]
  },
  {
   "cell_type": "code",
   "execution_count": 16,
   "metadata": {},
   "outputs": [
    {
     "name": "stdout",
     "output_type": "stream",
     "text": [
      "SLICING STRINGS\n",
      "H\n",
      "Character in index 0 is H\n",
      "e\n",
      "Character in index 1 is e\n",
      "!\n",
      "Character in index -1 is !\n",
      "el\n",
      "Characters in index 1 and 2 are el\n",
      "on\n",
      "Characters in index -3 and -2 are on\n",
      "Hell\n",
      "Characters from index 0 to index 3 are Hell\n",
      "ello, I am learning Python!\n",
      "Characters from index 1 to last index are ello, I am learning Python!\n"
     ]
    }
   ],
   "source": [
    "msg = (\"Hello, I am learning Python!\")\n",
    "\n",
    "print(\"SLICING STRINGS\")\n",
    "print(msg[0])\n",
    "print(\"Character in index 0 is {}\".format(msg[0]))\n",
    "print(msg[1])\n",
    "print(\"Character in index 1 is {}\".format(msg[1]))\n",
    "\n",
    "print(msg[-1])\n",
    "print(\"Character in index -1 is {}\".format(msg[-1]))\n",
    "\n",
    "print(msg[1:3])\n",
    "print(\"Characters in index 1 and 2 are {}\".format(msg[1:3]))\n",
    "print(msg[-3:-1])\n",
    "print(\"Characters in index -3 and -2 are {}\".format(msg[-3:-1]))\n",
    "\n",
    "print(msg[:4])\n",
    "print(\"Characters from index 0 to index 3 are {}\".format(msg[:4]))\n",
    "print(msg[1:])\n",
    "print(\"Characters from index 1 to last index are {}\".format(msg[1:]))"
   ]
  },
  {
   "cell_type": "markdown",
   "metadata": {},
   "source": [
    "#### Modify Strings    \n",
    "\n",
    "The following methods can be used to modify strings  \n",
    "+\n",
    "-\n",
    "+\n",
    "-\n",
    "+\n",
    "-"
   ]
  },
  {
   "cell_type": "code",
   "execution_count": null,
   "metadata": {},
   "outputs": [],
   "source": []
  },
  {
   "cell_type": "markdown",
   "metadata": {},
   "source": [
    "#### Concatenate Strings\n",
    "This is the process of combining two strings.  \n",
    "The `+` operator is used.  \n",
    "However the strings combine without a space.  \n",
    "In order to create a space, you add an empty space `+ \" \"`   "
   ]
  },
  {
   "cell_type": "code",
   "execution_count": 17,
   "metadata": {},
   "outputs": [
    {
     "name": "stdout",
     "output_type": "stream",
     "text": [
      "JohnDoe\n",
      "John Doe\n"
     ]
    }
   ],
   "source": [
    "f_name = \"John\"\n",
    "l_name = \"Doe\"\n",
    "name = f_name + l_name\n",
    "print(name)\n",
    "\n",
    "name = f_name + \" \" + l_name\n",
    "print(name)"
   ]
  },
  {
   "cell_type": "markdown",
   "metadata": {},
   "source": [
    "#### Escape Characters\n",
    "This is a sequence of backslash `\\` followed by the character.  \n",
    "The are used to insert characters that are illegal in a string.  \n",
    "An example of an illegal character is a double quote within double quotes.  \n",
    "`print(\"Python is \"interesting\"!\")`This will raise an error.  \n",
    "We therefore use the escape character `\\\"`  \n",
    "`print(\"Python is \\\"interesting\\\"\")`  \n",
    "\n",
    "+ `\\\"`Single Quote  \n",
    "- `\\'`Single Quote  \n",
    "+ `\\\\`Backslash  \n",
    "- `\\a`Bell  \n",
    "+ `\\b`Backspace  \n",
    "- `\\f`Form Feed  \n",
    "+ `\\n`New Line\n",
    "- `\\r`Carriage Return  \n",
    "+ `\\t`Horizontal Tab  \n",
    "- `\\v`Vertical Tab\n",
    "+ `\\ooo`Octal Value  \n",
    "- `\\xhh`Hexadecimal Value"
   ]
  },
  {
   "cell_type": "code",
   "execution_count": 18,
   "metadata": {},
   "outputs": [
    {
     "name": "stdout",
     "output_type": "stream",
     "text": [
      "Single Quote\n",
      "Hello 'World'\n",
      "Double Quote\n",
      "Hello \"World\"\n",
      "Backslash\n",
      "Hello \\ World\n",
      "Bell\n",
      "Hello\u0007World\n",
      "Backspace\n",
      "Hello Word\n",
      "Form Feed\n",
      "Hello\fWorld\n",
      "New Line\n",
      "Hello\n",
      "World\n",
      "Carriage Return\n",
      "World\n",
      "Horizontal Tab\n",
      "Hello\tWorld\n",
      "Vertical Tab\n",
      "Hello\u000bWorld\n",
      "Octal Value\n",
      "A\n",
      "Hexadecimal Value\n",
      "B\n"
     ]
    }
   ],
   "source": [
    "print(\"Single Quote\")\n",
    "print(\"Hello \\'World\\'\")\n",
    "\n",
    "print(\"Double Quote\")\n",
    "print(\"Hello \\\"World\\\"\")\n",
    "\n",
    "print(\"Backslash\")\n",
    "print(\"Hello \\\\ World\")\n",
    "\n",
    "print(\"Bell\")\n",
    "print(\"Hello\\aWorld\")\n",
    "\n",
    "print(\"Backspace\")\n",
    "print(\"Hello Worl\\bd\")\n",
    "\n",
    "print(\"Form Feed\")\n",
    "print(\"Hello\\fWorld\")\n",
    "\n",
    "print(\"New Line\")\n",
    "print(\"Hello\\nWorld\")\n",
    "\n",
    "print(\"Carriage Return\")\n",
    "print(\"Hello\\rWorld\")\n",
    "\n",
    "print(\"Horizontal Tab\")\n",
    "print(\"Hello\\tWorld\")\n",
    "\n",
    "print(\"Vertical Tab\")\n",
    "print(\"Hello\\vWorld\")\n",
    "\n",
    "print(\"Octal Value\")\n",
    "print(\"\\101\")\n",
    "\n",
    "print(\"Hexadecimal Value\")\n",
    "print(\"\\x42\")"
   ]
  },
  {
   "cell_type": "markdown",
   "metadata": {},
   "source": [
    "#### String Methods\n",
    "+ `capitalize()`Converts the first character to upper case.  \n",
    "- `casefold()`Converts string to lower case.  \n",
    "+ `swapcase()`Converts lower case to upper case and upper case to lower case.  \n",
    "- `title()`Converts the first character of each word to upper case.  \n",
    "+ `translate()`Translates a string.  \n",
    "- `upper()`Converts string to upper case.  "
   ]
  }
 ],
 "metadata": {
  "kernelspec": {
   "display_name": "Python 3",
   "language": "python",
   "name": "python3"
  },
  "language_info": {
   "codemirror_mode": {
    "name": "ipython",
    "version": 3
   },
   "file_extension": ".py",
   "mimetype": "text/x-python",
   "name": "python",
   "nbconvert_exporter": "python",
   "pygments_lexer": "ipython3",
   "version": "3.12.3"
  }
 },
 "nbformat": 4,
 "nbformat_minor": 2
}
